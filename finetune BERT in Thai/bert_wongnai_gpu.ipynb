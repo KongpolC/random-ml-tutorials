{
  "nbformat": 4,
  "nbformat_minor": 0,
  "metadata": {
    "colab": {
      "name": "bert_wongnai_gpu.ipynb",
      "version": "0.3.2",
      "provenance": [],
      "collapsed_sections": []
    },
    "kernelspec": {
      "name": "python3",
      "display_name": "Python 3"
    },
    "accelerator": "GPU"
  },
  "cells": [
    {
      "cell_type": "code",
      "metadata": {
        "id": "qicYUhuesJMg",
        "colab_type": "code",
        "colab": {}
      },
      "source": [
        "# clear VM completely\n",
        "! kill -9 -1"
      ],
      "execution_count": 0,
      "outputs": []
    },
    {
      "cell_type": "code",
      "metadata": {
        "id": "hlljq3dgERpO",
        "colab_type": "code",
        "colab": {}
      },
      "source": [
        "from google.colab import auth\n",
        "auth.authenticate_user()"
      ],
      "execution_count": 0,
      "outputs": []
    },
    {
      "cell_type": "code",
      "metadata": {
        "id": "pr_dMQbfdjMB",
        "colab_type": "code",
        "colab": {}
      },
      "source": [
        "!pip install sentencepiece"
      ],
      "execution_count": 0,
      "outputs": []
    },
    {
      "cell_type": "code",
      "metadata": {
        "id": "SbHy6HVKaDBB",
        "colab_type": "code",
        "colab": {}
      },
      "source": [
        "!gsutil cp gs://<YOUR_BUCKET_NAME>/bert_base_th.zip .\n",
        "!gsutil cp gs://<YOUR_BUCKET_NAME>/th_wiki_bpe.zip ."
      ],
      "execution_count": 0,
      "outputs": []
    },
    {
      "cell_type": "code",
      "metadata": {
        "id": "kLWyd3VSaq9N",
        "colab_type": "code",
        "colab": {}
      },
      "source": [
        "!unzip bert_base_th.zip\n",
        "!unzip th_wiki_bpe.zip"
      ],
      "execution_count": 0,
      "outputs": []
    },
    {
      "cell_type": "code",
      "metadata": {
        "id": "3z9s3xSvaPbG",
        "colab_type": "code",
        "colab": {}
      },
      "source": [
        "!git clone https://github.com/ThAIKeras/bert.git"
      ],
      "execution_count": 0,
      "outputs": []
    },
    {
      "cell_type": "code",
      "metadata": {
        "id": "5cSJqUWNa615",
        "colab_type": "code",
        "colab": {}
      },
      "source": [
        "!git clone https://github.com/wongnai/wongnai-corpus.git"
      ],
      "execution_count": 0,
      "outputs": []
    },
    {
      "cell_type": "code",
      "metadata": {
        "id": "XsdIlWDfcFlB",
        "colab_type": "code",
        "colab": {}
      },
      "source": [
        "%cd wongnai-corpus/review/"
      ],
      "execution_count": 0,
      "outputs": []
    },
    {
      "cell_type": "code",
      "metadata": {
        "id": "iatQQouRa9yN",
        "colab_type": "code",
        "colab": {}
      },
      "source": [
        "!unzip review_dataset.zip"
      ],
      "execution_count": 0,
      "outputs": []
    },
    {
      "cell_type": "code",
      "metadata": {
        "id": "damkMrmAcmtW",
        "colab_type": "code",
        "colab": {}
      },
      "source": [
        "%cd ../.."
      ],
      "execution_count": 0,
      "outputs": []
    },
    {
      "cell_type": "code",
      "metadata": {
        "id": "6VCPk3erc5MH",
        "colab_type": "code",
        "colab": {}
      },
      "source": [
        "!mkdir output"
      ],
      "execution_count": 0,
      "outputs": []
    },
    {
      "cell_type": "code",
      "metadata": {
        "id": "mrlEZvFds5Nm",
        "colab_type": "code",
        "colab": {}
      },
      "source": [
        "import os\n",
        "os.environ['BPE_DIR'] = \"/content/th_wiki_bpe\"\n",
        "os.environ['WONGNAI_DIR'] = \"/content/wongnai-corpus/review\"\n",
        "os.environ['OUTPUT_DIR'] = \"/content/output\"\n",
        "os.environ['BERT_BASE_DIR'] = \"/content/bert_base_th\""
      ],
      "execution_count": 0,
      "outputs": []
    },
    {
      "cell_type": "code",
      "metadata": {
        "id": "ZofoNOYLdKPf",
        "colab_type": "code",
        "colab": {}
      },
      "source": [
        "# train with GPU\n",
        "!python bert/run_classifier.py \\\n",
        "  --task_name=wongnai \\\n",
        "  --do_train=true \\\n",
        "  --do_predict=true \\\n",
        "  --data_dir=$WONGNAI_DIR \\\n",
        "  --vocab_file=$BPE_DIR/th.wiki.bpe.op25000.vocab \\\n",
        "  --bert_config_file=$BERT_BASE_DIR/bert_config.json \\\n",
        "  --init_checkpoint=$BERT_BASE_DIR/model.ckpt \\\n",
        "  --max_seq_length=128 \\\n",
        "  --train_batch_size=32 \\\n",
        "  --learning_rate=5e-5 \\\n",
        "  --num_train_epochs=2.0 \\\n",
        "  --output_dir=$OUTPUT_DIR \\\n",
        "  --spm_file=$BPE_DIR/th.wiki.bpe.op25000.model"
      ],
      "execution_count": 0,
      "outputs": []
    },
    {
      "cell_type": "code",
      "metadata": {
        "id": "BQahUS8Y-IVt",
        "colab_type": "code",
        "colab": {}
      },
      "source": [
        "!mkdir output_last"
      ],
      "execution_count": 0,
      "outputs": []
    },
    {
      "cell_type": "code",
      "metadata": {
        "id": "rPHsLNFh-OnG",
        "colab_type": "code",
        "colab": {}
      },
      "source": [
        "!cp output/model.ckpt-2500.* output_last/"
      ],
      "execution_count": 0,
      "outputs": []
    },
    {
      "cell_type": "code",
      "metadata": {
        "id": "_15aPpay_H5a",
        "colab_type": "code",
        "colab": {}
      },
      "source": [
        "%cd output_last"
      ],
      "execution_count": 0,
      "outputs": []
    },
    {
      "cell_type": "code",
      "metadata": {
        "id": "tXyI55FJ_Q1F",
        "colab_type": "code",
        "colab": {}
      },
      "source": [
        "!mv model.ckpt-2500.data-00000-of-00001 model.ckpt.data-00000-of-00001\n",
        "!mv model.ckpt-2500.index model.ckpt.index\n",
        "!mv model.ckpt-2500.meta model.ckpt.meta"
      ],
      "execution_count": 0,
      "outputs": []
    },
    {
      "cell_type": "code",
      "metadata": {
        "id": "jdKhwIz__QYa",
        "colab_type": "code",
        "colab": {}
      },
      "source": [
        "!ls"
      ],
      "execution_count": 0,
      "outputs": []
    },
    {
      "cell_type": "code",
      "metadata": {
        "id": "yYqWIYevACQz",
        "colab_type": "code",
        "colab": {}
      },
      "source": [
        "%cd .."
      ],
      "execution_count": 0,
      "outputs": []
    },
    {
      "cell_type": "code",
      "metadata": {
        "id": "SzSgr1tGBIo0",
        "colab_type": "code",
        "colab": {}
      },
      "source": [
        "!zip -r output_last.zip output_last"
      ],
      "execution_count": 0,
      "outputs": []
    },
    {
      "cell_type": "code",
      "metadata": {
        "id": "94BX7K05BeNG",
        "colab_type": "code",
        "colab": {}
      },
      "source": [
        "!ls -l"
      ],
      "execution_count": 0,
      "outputs": []
    },
    {
      "cell_type": "code",
      "metadata": {
        "id": "e-TgGwDNCN_-",
        "colab_type": "code",
        "colab": {}
      },
      "source": [
        "!gsutil cp output_last.zip gs://<YOUR_BUCKET_NAME>/"
      ],
      "execution_count": 0,
      "outputs": []
    }
  ]
}