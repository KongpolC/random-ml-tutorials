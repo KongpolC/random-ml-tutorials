{
  "nbformat": 4,
  "nbformat_minor": 0,
  "metadata": {
    "colab": {
      "name": "bert_wongnai_TPU.ipynb",
      "version": "0.3.2",
      "provenance": [],
      "collapsed_sections": []
    },
    "kernelspec": {
      "name": "python3",
      "display_name": "Python 3"
    },
    "accelerator": "TPU"
  },
  "cells": [
    {
      "cell_type": "code",
      "metadata": {
        "id": "qicYUhuesJMg",
        "colab_type": "code",
        "colab": {}
      },
      "source": [
        "# clear VM completely\n",
        "! kill -9 -1"
      ],
      "execution_count": 0,
      "outputs": []
    },
    {
      "cell_type": "code",
      "metadata": {
        "id": "oGHmNf6RHP6w",
        "colab_type": "code",
        "colab": {
          "base_uri": "https://localhost:8080/",
          "height": 386
        },
        "outputId": "fdd9c81a-1c6d-4a84-c36e-88ed99ed9e04"
      },
      "source": [
        "import datetime\n",
        "import json\n",
        "import os\n",
        "import pprint\n",
        "import random\n",
        "import string\n",
        "import sys\n",
        "import tensorflow as tf\n",
        "\n",
        "assert 'COLAB_TPU_ADDR' in os.environ, 'ERROR: Not connected to a TPU runtime; please see the first cell in this notebook for instructions!'\n",
        "TPU_ADDRESS = 'grpc://' + os.environ['COLAB_TPU_ADDR']\n",
        "print('TPU address is', TPU_ADDRESS)\n",
        "\n",
        "from google.colab import auth\n",
        "auth.authenticate_user()\n",
        "with tf.Session(TPU_ADDRESS) as session:\n",
        "  print('TPU devices:')\n",
        "  pprint.pprint(session.list_devices())\n",
        "\n",
        "  # Upload credentials to TPU.\n",
        "  with open('/content/adc.json', 'r') as f:\n",
        "    auth_info = json.load(f)\n",
        "  tf.contrib.cloud.configure_gcs(session, credentials=auth_info)\n",
        "  # Now credentials are set for all future sessions on this TPU."
      ],
      "execution_count": 1,
      "outputs": [
        {
          "output_type": "stream",
          "text": [
            "TPU address is grpc://10.123.151.250:8470\n"
          ],
          "name": "stdout"
        },
        {
          "output_type": "stream",
          "text": [
            "WARNING: Logging before flag parsing goes to stderr.\n",
            "W0821 09:26:27.837970 140154367981440 lazy_loader.py:50] \n",
            "The TensorFlow contrib module will not be included in TensorFlow 2.0.\n",
            "For more information, please see:\n",
            "  * https://github.com/tensorflow/community/blob/master/rfcs/20180907-contrib-sunset.md\n",
            "  * https://github.com/tensorflow/addons\n",
            "  * https://github.com/tensorflow/io (for I/O related ops)\n",
            "If you depend on functionality not listed there, please file an issue.\n",
            "\n"
          ],
          "name": "stderr"
        },
        {
          "output_type": "stream",
          "text": [
            "TPU devices:\n",
            "[_DeviceAttributes(/job:tpu_worker/replica:0/task:0/device:CPU:0, CPU, -1, 5164580629985135382),\n",
            " _DeviceAttributes(/job:tpu_worker/replica:0/task:0/device:XLA_CPU:0, XLA_CPU, 17179869184, 11837996157355801182),\n",
            " _DeviceAttributes(/job:tpu_worker/replica:0/task:0/device:TPU:0, TPU, 17179869184, 6213735751976984636),\n",
            " _DeviceAttributes(/job:tpu_worker/replica:0/task:0/device:TPU:1, TPU, 17179869184, 1257301642428864053),\n",
            " _DeviceAttributes(/job:tpu_worker/replica:0/task:0/device:TPU:2, TPU, 17179869184, 3896444144470866598),\n",
            " _DeviceAttributes(/job:tpu_worker/replica:0/task:0/device:TPU:3, TPU, 17179869184, 11557949942989894400),\n",
            " _DeviceAttributes(/job:tpu_worker/replica:0/task:0/device:TPU:4, TPU, 17179869184, 9787055620788696470),\n",
            " _DeviceAttributes(/job:tpu_worker/replica:0/task:0/device:TPU:5, TPU, 17179869184, 8556736308082469437),\n",
            " _DeviceAttributes(/job:tpu_worker/replica:0/task:0/device:TPU:6, TPU, 17179869184, 9186177757265636374),\n",
            " _DeviceAttributes(/job:tpu_worker/replica:0/task:0/device:TPU:7, TPU, 17179869184, 18282532829758598386),\n",
            " _DeviceAttributes(/job:tpu_worker/replica:0/task:0/device:TPU_SYSTEM:0, TPU_SYSTEM, 8589934592, 6874290177753691148)]\n"
          ],
          "name": "stdout"
        }
      ]
    },
    {
      "cell_type": "code",
      "metadata": {
        "id": "pr_dMQbfdjMB",
        "colab_type": "code",
        "colab": {
          "base_uri": "https://localhost:8080/",
          "height": 101
        },
        "outputId": "acc248d6-1bc1-4628-b7e8-82ed190a197c"
      },
      "source": [
        "!pip install sentencepiece"
      ],
      "execution_count": 2,
      "outputs": [
        {
          "output_type": "stream",
          "text": [
            "Collecting sentencepiece\n",
            "\u001b[?25l  Downloading https://files.pythonhosted.org/packages/14/3d/efb655a670b98f62ec32d66954e1109f403db4d937c50d779a75b9763a29/sentencepiece-0.1.83-cp36-cp36m-manylinux1_x86_64.whl (1.0MB)\n",
            "\u001b[K     |████████████████████████████████| 1.0MB 3.5MB/s \n",
            "\u001b[?25hInstalling collected packages: sentencepiece\n",
            "Successfully installed sentencepiece-0.1.83\n"
          ],
          "name": "stdout"
        }
      ]
    },
    {
      "cell_type": "code",
      "metadata": {
        "id": "M2hVOLQiHVfL",
        "colab_type": "code",
        "colab": {
          "base_uri": "https://localhost:8080/",
          "height": 67
        },
        "outputId": "47c618cf-588e-4b4a-a05b-ce529e48f423"
      },
      "source": [
        "!gsutil cp gs://<YOUR_BUCKET_NAME>/th_wiki_bpe.zip ."
      ],
      "execution_count": 3,
      "outputs": [
        {
          "output_type": "stream",
          "text": [
            "Copying gs://no-idea-what-to-name-bucket/th_wiki_bpe.zip...\n",
            "/ [1 files][488.7 KiB/488.7 KiB]                                                \n",
            "Operation completed over 1 objects/488.7 KiB.                                    \n"
          ],
          "name": "stdout"
        }
      ]
    },
    {
      "cell_type": "code",
      "metadata": {
        "id": "Ja5w2nUBHkOs",
        "colab_type": "code",
        "colab": {
          "base_uri": "https://localhost:8080/",
          "height": 84
        },
        "outputId": "99c38593-7cd8-4840-95e0-4bcce193323b"
      },
      "source": [
        "!unzip th_wiki_bpe.zip"
      ],
      "execution_count": 4,
      "outputs": [
        {
          "output_type": "stream",
          "text": [
            "Archive:  th_wiki_bpe.zip\n",
            "   creating: th_wiki_bpe/\n",
            "  inflating: th_wiki_bpe/th.wiki.bpe.op25000.model  \n",
            "  inflating: th_wiki_bpe/th.wiki.bpe.op25000.vocab  \n"
          ],
          "name": "stdout"
        }
      ]
    },
    {
      "cell_type": "code",
      "metadata": {
        "id": "7wzwke0sxS6W",
        "colab_type": "code",
        "outputId": "3b5469be-cf07-4d7a-c484-be89209714a9",
        "colab": {
          "base_uri": "https://localhost:8080/",
          "height": 154
        }
      },
      "source": [
        "import sys\n",
        "\n",
        "!test -d bert_repo || git clone https://github.com/ThAIKeras/bert.git bert_thai\n",
        "if not 'bert_thai' in sys.path:\n",
        "  sys.path += ['bert_thai']\n",
        "\n",
        "# import python modules defined by BERT\n",
        "import modeling\n",
        "import optimization\n",
        "import run_classifier\n",
        "# import run_classifier_with_tfhub\n",
        "import tokenization\n",
        "\n",
        "# import tfhub \n",
        "# import tensorflow_hub as hub"
      ],
      "execution_count": 5,
      "outputs": [
        {
          "output_type": "stream",
          "text": [
            "Cloning into 'bert_thai'...\n",
            "remote: Enumerating objects: 275, done.\u001b[K\n",
            "Receiving objects:   0% (1/275)   \rReceiving objects:   1% (3/275)   \rReceiving objects:   2% (6/275)   \rReceiving objects:   3% (9/275)   \rReceiving objects:   4% (11/275)   \rReceiving objects:   5% (14/275)   \rReceiving objects:   6% (17/275)   \rReceiving objects:   7% (20/275)   \rReceiving objects:   8% (22/275)   \rReceiving objects:   9% (25/275)   \rReceiving objects:  10% (28/275)   \rReceiving objects:  11% (31/275)   \rReceiving objects:  12% (33/275)   \rReceiving objects:  13% (36/275)   \rReceiving objects:  14% (39/275)   \rReceiving objects:  15% (42/275)   \rReceiving objects:  16% (44/275)   \rReceiving objects:  17% (47/275)   \rReceiving objects:  18% (50/275)   \rReceiving objects:  19% (53/275)   \rReceiving objects:  20% (55/275)   \rReceiving objects:  21% (58/275)   \rReceiving objects:  22% (61/275)   \rReceiving objects:  23% (64/275)   \rReceiving objects:  24% (66/275)   \rReceiving objects:  25% (69/275)   \rReceiving objects:  26% (72/275)   \rReceiving objects:  27% (75/275)   \rReceiving objects:  28% (77/275)   \rReceiving objects:  29% (80/275)   \rReceiving objects:  30% (83/275)   \rReceiving objects:  31% (86/275)   \rReceiving objects:  32% (88/275)   \rReceiving objects:  33% (91/275)   \rReceiving objects:  34% (94/275)   \rReceiving objects:  35% (97/275)   \rReceiving objects:  36% (99/275)   \rReceiving objects:  37% (102/275)   \rReceiving objects:  38% (105/275)   \rReceiving objects:  39% (108/275)   \rReceiving objects:  40% (110/275)   \rReceiving objects:  41% (113/275)   \rReceiving objects:  42% (116/275)   \rReceiving objects:  43% (119/275)   \rReceiving objects:  44% (121/275)   \rReceiving objects:  45% (124/275)   \rReceiving objects:  46% (127/275)   \rReceiving objects:  47% (130/275)   \rReceiving objects:  48% (132/275)   \rReceiving objects:  49% (135/275)   \rReceiving objects:  50% (138/275)   \rReceiving objects:  51% (141/275)   \rReceiving objects:  52% (143/275)   \rReceiving objects:  53% (146/275)   \rReceiving objects:  54% (149/275)   \rReceiving objects:  55% (152/275)   \rReceiving objects:  56% (154/275)   \rReceiving objects:  57% (157/275)   \rReceiving objects:  58% (160/275)   \rReceiving objects:  59% (163/275)   \rReceiving objects:  60% (165/275)   \rReceiving objects:  61% (168/275)   \rReceiving objects:  62% (171/275)   \rReceiving objects:  63% (174/275)   \rReceiving objects:  64% (176/275)   \rReceiving objects:  65% (179/275)   \rReceiving objects:  66% (182/275)   \rReceiving objects:  67% (185/275)   \rReceiving objects:  68% (187/275)   \rReceiving objects:  69% (190/275)   \rReceiving objects:  70% (193/275)   \rReceiving objects:  71% (196/275)   \rReceiving objects:  72% (198/275)   \rReceiving objects:  73% (201/275)   \rReceiving objects:  74% (204/275)   \rReceiving objects:  75% (207/275)   \rReceiving objects:  76% (209/275)   \rReceiving objects:  77% (212/275)   \rReceiving objects:  78% (215/275)   \rReceiving objects:  79% (218/275)   \rReceiving objects:  80% (220/275)   \rReceiving objects:  81% (223/275)   \rReceiving objects:  82% (226/275)   \rReceiving objects:  83% (229/275)   \rReceiving objects:  84% (231/275)   \rReceiving objects:  85% (234/275)   \rReceiving objects:  86% (237/275)   \rReceiving objects:  87% (240/275)   \rReceiving objects:  88% (242/275)   \rReceiving objects:  89% (245/275)   \rReceiving objects:  90% (248/275)   \rReceiving objects:  91% (251/275)   \rReceiving objects:  92% (253/275)   \rReceiving objects:  93% (256/275)   \rReceiving objects:  94% (259/275)   \rremote: Total 275 (delta 0), reused 0 (delta 0), pack-reused 275\u001b[K\n",
            "Receiving objects:  95% (262/275)   \rReceiving objects:  96% (264/275)   \rReceiving objects:  97% (267/275)   \rReceiving objects:  98% (270/275)   \rReceiving objects:  99% (273/275)   \rReceiving objects: 100% (275/275)   \rReceiving objects: 100% (275/275), 197.94 KiB | 2.71 MiB/s, done.\n",
            "Resolving deltas:   0% (0/151)   \rResolving deltas:   1% (2/151)   \rResolving deltas:   2% (4/151)   \rResolving deltas:   3% (5/151)   \rResolving deltas:  29% (44/151)   \rResolving deltas:  30% (46/151)   \rResolving deltas:  35% (53/151)   \rResolving deltas:  37% (57/151)   \rResolving deltas:  43% (65/151)   \rResolving deltas:  47% (71/151)   \rResolving deltas:  94% (143/151)   \rResolving deltas:  97% (147/151)   \rResolving deltas:  99% (150/151)   \rResolving deltas: 100% (151/151)   \rResolving deltas: 100% (151/151), done.\n"
          ],
          "name": "stdout"
        },
        {
          "output_type": "stream",
          "text": [
            "W0821 09:26:51.702592 140154367981440 deprecation_wrapper.py:119] From bert_thai/optimization.py:84: The name tf.train.Optimizer is deprecated. Please use tf.compat.v1.train.Optimizer instead.\n",
            "\n"
          ],
          "name": "stderr"
        }
      ]
    },
    {
      "cell_type": "code",
      "metadata": {
        "id": "5cSJqUWNa615",
        "colab_type": "code",
        "colab": {
          "base_uri": "https://localhost:8080/",
          "height": 101
        },
        "outputId": "5f30098b-277a-4a45-cacd-210648f3bbb2"
      },
      "source": [
        "!git clone https://github.com/wongnai/wongnai-corpus.git"
      ],
      "execution_count": 6,
      "outputs": [
        {
          "output_type": "stream",
          "text": [
            "Cloning into 'wongnai-corpus'...\n",
            "remote: Enumerating objects: 118, done.\u001b[K\n",
            "remote: Total 118 (delta 0), reused 0 (delta 0), pack-reused 118\u001b[K\n",
            "Receiving objects: 100% (118/118), 39.65 MiB | 32.07 MiB/s, done.\n",
            "Resolving deltas: 100% (42/42), done.\n"
          ],
          "name": "stdout"
        }
      ]
    },
    {
      "cell_type": "code",
      "metadata": {
        "id": "XsdIlWDfcFlB",
        "colab_type": "code",
        "colab": {
          "base_uri": "https://localhost:8080/",
          "height": 34
        },
        "outputId": "0f176796-5972-4d15-8b4d-3eee97fe4ea3"
      },
      "source": [
        "%cd wongnai-corpus/review/"
      ],
      "execution_count": 7,
      "outputs": [
        {
          "output_type": "stream",
          "text": [
            "/content/wongnai-corpus/review\n"
          ],
          "name": "stdout"
        }
      ]
    },
    {
      "cell_type": "code",
      "metadata": {
        "id": "iatQQouRa9yN",
        "colab_type": "code",
        "colab": {
          "base_uri": "https://localhost:8080/",
          "height": 151
        },
        "outputId": "42b18d77-1854-48f9-aea0-ade3cf3500de"
      },
      "source": [
        "!unzip review_dataset.zip"
      ],
      "execution_count": 8,
      "outputs": [
        {
          "output_type": "stream",
          "text": [
            "Archive:  review_dataset.zip\n",
            " extracting: sample_submission.csv   \n",
            "  inflating: test_file.csv           \n",
            "  inflating: w_review_train.csv      \n",
            "   creating: __MACOSX/\n",
            "  inflating: __MACOSX/._sample_submission.csv  \n",
            "  inflating: __MACOSX/._test_file.csv  \n",
            "  inflating: __MACOSX/._w_review_train.csv  \n"
          ],
          "name": "stdout"
        }
      ]
    },
    {
      "cell_type": "code",
      "metadata": {
        "id": "damkMrmAcmtW",
        "colab_type": "code",
        "colab": {
          "base_uri": "https://localhost:8080/",
          "height": 34
        },
        "outputId": "4ef3a76b-02cf-47c8-b246-048031babab1"
      },
      "source": [
        "%cd ../.."
      ],
      "execution_count": 9,
      "outputs": [
        {
          "output_type": "stream",
          "text": [
            "/content\n"
          ],
          "name": "stdout"
        }
      ]
    },
    {
      "cell_type": "code",
      "metadata": {
        "id": "l7vBSPfhN8bS",
        "colab_type": "code",
        "colab": {
          "base_uri": "https://localhost:8080/",
          "height": 34
        },
        "outputId": "8d51ac2a-be8f-4a7d-a529-bbcbdd820ca3"
      },
      "source": [
        "!ls th_wiki_bpe/"
      ],
      "execution_count": 10,
      "outputs": [
        {
          "output_type": "stream",
          "text": [
            "th.wiki.bpe.op25000.model  th.wiki.bpe.op25000.vocab\n"
          ],
          "name": "stdout"
        }
      ]
    },
    {
      "cell_type": "code",
      "metadata": {
        "id": "Lwgl-c_kCh8l",
        "colab_type": "code",
        "colab": {
          "base_uri": "https://localhost:8080/",
          "height": 50
        },
        "outputId": "9e611755-96a3-4fed-d1aa-69db9b0614bf"
      },
      "source": [
        "TASK = 'wongnai'\n",
        "TASK_DATA_DIR = '/content/wongnai-corpus/review/'\n",
        "OUTPUT_DIR = 'gs://<YOUR_BUCKET_NAME>/wongnai_bert_tpu'\n",
        "tokenizer = tokenization.ThaiTokenizer(vocab_file='/content/th_wiki_bpe/th.wiki.bpe.op25000.vocab', spm_file='/content/th_wiki_bpe/th.wiki.bpe.op25000.model')"
      ],
      "execution_count": 11,
      "outputs": [
        {
          "output_type": "stream",
          "text": [
            "W0821 09:27:00.549983 140154367981440 deprecation_wrapper.py:119] From bert_thai/tokenization.py:74: The name tf.gfile.GFile is deprecated. Please use tf.io.gfile.GFile instead.\n",
            "\n"
          ],
          "name": "stderr"
        }
      ]
    },
    {
      "cell_type": "code",
      "metadata": {
        "id": "pYVYULZiKvUi",
        "colab_type": "code",
        "colab": {
          "base_uri": "https://localhost:8080/",
          "height": 50
        },
        "outputId": "78315416-2ae8-43e1-a7dd-02b3093fb6b8"
      },
      "source": [
        "TRAIN_BATCH_SIZE = 128\n",
        "EVAL_BATCH_SIZE = 8\n",
        "PREDICT_BATCH_SIZE = 8\n",
        "LEARNING_RATE = 2e-5\n",
        "NUM_TRAIN_EPOCHS = 10\n",
        "MAX_SEQ_LENGTH = 128\n",
        "# Warmup is a period of time where hte learning rate \n",
        "# is small and gradually increases--usually helps training.\n",
        "WARMUP_PROPORTION = 0.1\n",
        "# Model configs\n",
        "SAVE_CHECKPOINTS_STEPS = 1000\n",
        "SAVE_SUMMARY_STEPS = 500\n",
        "\n",
        "tf.logging.set_verbosity(tf.logging.INFO)\n",
        "\n",
        "processors = {\n",
        "  \"cola\": run_classifier.ColaProcessor,\n",
        "  \"mnli\": run_classifier.MnliProcessor,\n",
        "  \"mrpc\": run_classifier.MrpcProcessor,\n",
        "  \"wongnai\": run_classifier.WongnaiProcessor,\n",
        "}\n",
        "processor = processors[TASK.lower()]()\n",
        "label_list = processor.get_labels()\n",
        "\n",
        "# Compute number of train and warmup steps from batch size\n",
        "train_examples = processor.get_train_examples(TASK_DATA_DIR)\n",
        "num_train_steps = int(len(train_examples) / TRAIN_BATCH_SIZE * NUM_TRAIN_EPOCHS)\n",
        "num_warmup_steps = int(num_train_steps * WARMUP_PROPORTION)\n",
        "\n",
        "# Setup TPU related config\n",
        "tpu_cluster_resolver = tf.contrib.cluster_resolver.TPUClusterResolver(TPU_ADDRESS)\n",
        "NUM_TPU_CORES = 8\n",
        "ITERATIONS_PER_LOOP = 1000\n",
        "\n",
        "def get_run_config(output_dir):\n",
        "  return tf.contrib.tpu.RunConfig(\n",
        "    cluster=tpu_cluster_resolver,\n",
        "    model_dir=output_dir,\n",
        "    save_checkpoints_steps=SAVE_CHECKPOINTS_STEPS,\n",
        "    tpu_config=tf.contrib.tpu.TPUConfig(\n",
        "        iterations_per_loop=ITERATIONS_PER_LOOP,\n",
        "        num_shards=NUM_TPU_CORES,\n",
        "        per_host_input_for_training=tf.contrib.tpu.InputPipelineConfig.PER_HOST_V2))\n"
      ],
      "execution_count": 12,
      "outputs": [
        {
          "output_type": "stream",
          "text": [
            "W0821 09:27:00.753659 140154367981440 deprecation_wrapper.py:119] From bert_thai/run_classifier.py:386: The name tf.gfile.Open is deprecated. Please use tf.io.gfile.GFile instead.\n",
            "\n"
          ],
          "name": "stderr"
        }
      ]
    },
    {
      "cell_type": "code",
      "metadata": {
        "id": "y4rwpwruH29B",
        "colab_type": "code",
        "colab": {}
      },
      "source": [
        "bert_config = modeling.BertConfig.from_json_file('gs://<YOUR_BUCKET_NAME>/bert_base_th/bert_config.json')\n",
        "\n",
        "model_fn = run_classifier.model_fn_builder(\n",
        "  bert_config=bert_config,\n",
        "  num_labels=len(label_list),\n",
        "  init_checkpoint='gs://<YOUR_BUCKET_NAME>/bert_base_th/model.ckpt',\n",
        "  learning_rate=LEARNING_RATE,\n",
        "  num_train_steps=num_train_steps,\n",
        "  num_warmup_steps=num_warmup_steps,\n",
        "  use_tpu=True,\n",
        "  use_one_hot_embeddings=True\n",
        ")"
      ],
      "execution_count": 0,
      "outputs": []
    },
    {
      "cell_type": "code",
      "metadata": {
        "id": "AtvV9CE2Pruo",
        "colab_type": "code",
        "colab": {
          "base_uri": "https://localhost:8080/",
          "height": 272
        },
        "outputId": "910293c6-5ad7-4e03-e0dd-4fd22fec8778"
      },
      "source": [
        "estimator = tf.contrib.tpu.TPUEstimator(\n",
        "  use_tpu=True,\n",
        "  model_fn=model_fn,\n",
        "  config=get_run_config(OUTPUT_DIR),\n",
        "  train_batch_size=TRAIN_BATCH_SIZE,\n",
        "  eval_batch_size=EVAL_BATCH_SIZE,\n",
        "  predict_batch_size=PREDICT_BATCH_SIZE\n",
        ")"
      ],
      "execution_count": 14,
      "outputs": [
        {
          "output_type": "stream",
          "text": [
            "W0821 09:27:05.764487 140154367981440 estimator.py:1984] Estimator's model_fn (<function model_fn_builder.<locals>.model_fn at 0x7f77f2c5ce18>) includes params argument, but params are not passed to Estimator.\n",
            "I0821 09:27:05.770701 140154367981440 estimator.py:209] Using config: {'_model_dir': 'gs://no-idea-what-to-name-bucket/wongnai_bert_tpu', '_tf_random_seed': None, '_save_summary_steps': 100, '_save_checkpoints_steps': 1000, '_save_checkpoints_secs': None, '_session_config': allow_soft_placement: true\n",
            "cluster_def {\n",
            "  job {\n",
            "    name: \"worker\"\n",
            "    tasks {\n",
            "      key: 0\n",
            "      value: \"10.123.151.250:8470\"\n",
            "    }\n",
            "  }\n",
            "}\n",
            "isolate_session_state: true\n",
            ", '_keep_checkpoint_max': 5, '_keep_checkpoint_every_n_hours': 10000, '_log_step_count_steps': None, '_train_distribute': None, '_device_fn': None, '_protocol': None, '_eval_distribute': None, '_experimental_distribute': None, '_experimental_max_worker_delay_secs': None, '_service': None, '_cluster_spec': <tensorflow.python.training.server_lib.ClusterSpec object at 0x7f77f22fc160>, '_task_type': 'worker', '_task_id': 0, '_global_id_in_cluster': 0, '_master': 'grpc://10.123.151.250:8470', '_evaluation_master': 'grpc://10.123.151.250:8470', '_is_chief': True, '_num_ps_replicas': 0, '_num_worker_replicas': 1, '_tpu_config': TPUConfig(iterations_per_loop=1000, num_shards=8, num_cores_per_replica=None, per_host_input_for_training=3, tpu_job_name=None, initial_infeed_sleep_secs=None, input_partition_dims=None, eval_training_input_configuration=2), '_cluster': <tensorflow.python.distribute.cluster_resolver.tpu_cluster_resolver.TPUClusterResolver object at 0x7f77f144da20>}\n",
            "I0821 09:27:05.773972 140154367981440 tpu_context.py:209] _TPUContext: eval_on_tpu True\n"
          ],
          "name": "stderr"
        }
      ]
    },
    {
      "cell_type": "code",
      "metadata": {
        "id": "MX__fuNnR-QJ",
        "colab_type": "code",
        "colab": {
          "base_uri": "https://localhost:8080/",
          "height": 1000
        },
        "outputId": "a60a5ec2-3a9a-472a-eca8-e81db8abadb7"
      },
      "source": [
        "train_file = os.path.join(OUTPUT_DIR, \"train.tf_record\")\n",
        "run_classifier.file_based_convert_examples_to_features(\n",
        "    train_examples, label_list, MAX_SEQ_LENGTH, tokenizer, train_file)\n",
        "tf.logging.info(\"***** Running training *****\")\n",
        "tf.logging.info(\"  Num examples = %d\", len(train_examples))\n",
        "tf.logging.info(\"  Batch size = %d\", TRAIN_BATCH_SIZE)\n",
        "tf.logging.info(\"  Num steps = %d\", num_train_steps)\n",
        "train_input_fn = run_classifier.file_based_input_fn_builder(\n",
        "    input_file=train_file,\n",
        "    seq_length=MAX_SEQ_LENGTH,\n",
        "    is_training=True,\n",
        "    drop_remainder=True)\n",
        "estimator.train(input_fn=train_input_fn, max_steps=num_train_steps)"
      ],
      "execution_count": 15,
      "outputs": [
        {
          "output_type": "stream",
          "text": [
            "W0821 09:27:05.793981 140154367981440 deprecation_wrapper.py:119] From bert_thai/run_classifier.py:508: The name tf.python_io.TFRecordWriter is deprecated. Please use tf.io.TFRecordWriter instead.\n",
            "\n",
            "W0821 09:27:05.797576 140154367981440 deprecation_wrapper.py:119] From bert_thai/run_classifier.py:512: The name tf.logging.info is deprecated. Please use tf.compat.v1.logging.info instead.\n",
            "\n",
            "I0821 09:27:05.799546 140154367981440 run_classifier.py:512] Writing example 0 of 40000\n",
            "I0821 09:27:05.817574 140154367981440 run_classifier.py:487] *** Example ***\n",
            "I0821 09:27:05.818720 140154367981440 run_classifier.py:488] guid: train-0\n",
            "I0821 09:27:05.820106 140154367981440 run_classifier.py:490] tokens: [CLS] ▁ร้าน อาหาร ใหญ่มาก กก กก กก ▁ <unk> เลี้ยว เข้ามา เจอ ห้อง น้ํา ก่อน เลย ▁เอ อ แปลก ดี ▁ <unk> ห้อง ทาน หลักๆ อยู่ ชั้น ▁ 2 ▁มี กาแฟ ▁น้ํา ผึ้ง ▁ซึ่ง ก็ แค่ เอ าน้ํา ผึ้ง มารา ด ▁แพ ง เวอร์ ▁ อย่า สั่ง เลย ▁ <unk> ลา บ ไข่ ต้ม ▁ไข ่ม ัน คาว อะ ▁เลย ไม่ ประทับใจ เท่า ไหร ่ <unk> ทอด มัน หัว ปลี กรอบ อร ่อย ต้อง เบิ้ล ▁ <unk> พะ แน ง ห่อ ไข ่อ ร ่อย ดี ▁เห ้ย แต่ ราคา ▁ <unk> 0 บาท มัน เกินไป นะ ▁รับ ไม่ ไหว ว <unk> เลิก กิน แล้ว มี ขนม หวาน ให้ กิน ฟรี เล็กน้อย ▁) ขนม ไทย ) ▁ <unk> คง ไม่ ไป ซ้ํา ▁แพ ง เกิน [SEP]\n",
            "I0821 09:27:05.821545 140154367981440 run_classifier.py:491] input_ids: 1 8916 1062 17289 10505 10505 10505 24719 4 21149 2399 9402 2668 394 961 3179 827 24724 7141 218 24719 4 2668 1195 16910 125 957 24719 24854 115 10085 2045 6458 238 606 4511 187 3909 6458 17160 24736 1789 24726 1198 24719 14621 3043 3179 24719 4 303 24743 2687 3446 6943 154 15 5856 610 14057 251 23427 2632 24436 24727 4 2602 845 723 16001 5126 2811 718 835 14885 24719 4 5466 419 24726 9768 1517 25 24722 718 218 5103 3495 340 5086 24719 4 24728 1204 845 10103 1512 6884 251 2717 24735 4 3411 2191 559 35 3302 3209 166 2191 4353 3650 647 3302 233 24765 24719 4 1635 251 157 5933 1789 24726 2129 2 0 0\n",
            "I0821 09:27:05.822793 140154367981440 run_classifier.py:492] input_mask: 1 1 1 1 1 1 1 1 1 1 1 1 1 1 1 1 1 1 1 1 1 1 1 1 1 1 1 1 1 1 1 1 1 1 1 1 1 1 1 1 1 1 1 1 1 1 1 1 1 1 1 1 1 1 1 1 1 1 1 1 1 1 1 1 1 1 1 1 1 1 1 1 1 1 1 1 1 1 1 1 1 1 1 1 1 1 1 1 1 1 1 1 1 1 1 1 1 1 1 1 1 1 1 1 1 1 1 1 1 1 1 1 1 1 1 1 1 1 1 1 1 1 1 1 1 1 0 0\n",
            "I0821 09:27:05.824019 140154367981440 run_classifier.py:493] segment_ids: 0 0 0 0 0 0 0 0 0 0 0 0 0 0 0 0 0 0 0 0 0 0 0 0 0 0 0 0 0 0 0 0 0 0 0 0 0 0 0 0 0 0 0 0 0 0 0 0 0 0 0 0 0 0 0 0 0 0 0 0 0 0 0 0 0 0 0 0 0 0 0 0 0 0 0 0 0 0 0 0 0 0 0 0 0 0 0 0 0 0 0 0 0 0 0 0 0 0 0 0 0 0 0 0 0 0 0 0 0 0 0 0 0 0 0 0 0 0 0 0 0 0 0 0 0 0 0 0\n",
            "I0821 09:27:05.825550 140154367981440 run_classifier.py:494] label: 3 (id = 2)\n",
            "I0821 09:27:05.859037 140154367981440 run_classifier.py:487] *** Example ***\n",
            "I0821 09:27:05.860425 140154367981440 run_classifier.py:488] guid: train-1\n",
            "I0821 09:27:05.861736 140154367981440 run_classifier.py:490] tokens: [CLS] ▁อาหาร ที่นี่ เป็นอาหาร จีน แค ะ ที่ หากิน ยาก ในบ้าน เรา ▁ตัว ร้าน ตั้งอยู่ที่ ถนน พุทธมณฑล สาย ▁ <unk> ▁ไป ตาม ▁ถ . ปิ่น เกล้า - นคร ชัย ศรี ▁เมื่อ ถึง พุทธมณฑล สาย ▁ <unk> ▁ก็ เลี้ยว เข้าไป ประมาณ ▁ <unk> 00 ▁เมตร ▁ร้าน อยู่ ทาง ซ้าย มือ ค ่ะ ▁มี คน บอก ม าว่า ความ พิเศษของ ร้าน นี้คือ กุ ๊ก เก่า และเป็น กุ ๊ กรุ่น สุดท้าย จาก ▁\" ฮก ▁ล ก ▁ซิ ่ว ” ▁ภ ัตตา คาร จีน ชื่อดัง ย่าน ราช ประสงค์ ▁ที่ เลิก กิจการ ไปแล้ว ▁ต้อง คนที่ อายุ เลข ▁ <unk> ▁ขึ้น ไป จึง จะ เค ยก ิน ▁ฮก ▁ล ก ▁ซิ ่ว ▁จาน เด็ด ที่มี ขาย ที่นี่ แห่งเดียว ในเมือง ไทย คือ ▁ปลา เต๋า เต้ ย ▁ 2 ▁ฤดู ▁เป็น สูตร จาก มาเลเซีย ▁นอก [SEP]\n",
            "I0821 09:27:05.862884 140154367981440 run_classifier.py:491] input_ids: 1 5534 12170 4579 631 894 24742 13 9101 3434 24687 3267 1108 3208 5116 1069 18650 804 24719 4 2509 395 1625 24758 21001 2250 24790 960 1277 1019 466 149 18650 804 24719 4 1750 21149 2829 740 24719 4 7 1353 8916 125 107 2874 1266 24744 22499 115 325 2329 24730 3524 165 10477 3208 3601 1247 1272 1833 3013 1247 24813 9273 1433 80 112 5679 385 24725 12127 76 24827 2702 9855 1260 631 4546 4465 131 3115 230 3411 3943 5146 5669 2545 1397 1178 24719 4 3139 157 1075 177 225 499 58 18848 385 24725 12127 76 22621 11786 390 1191 12170 14536 2810 233 332 2476 17771 6915 24733 24719 24854 20577 45 2040 80 2515 6856 2\n",
            "I0821 09:27:05.865546 140154367981440 run_classifier.py:492] input_mask: 1 1 1 1 1 1 1 1 1 1 1 1 1 1 1 1 1 1 1 1 1 1 1 1 1 1 1 1 1 1 1 1 1 1 1 1 1 1 1 1 1 1 1 1 1 1 1 1 1 1 1 1 1 1 1 1 1 1 1 1 1 1 1 1 1 1 1 1 1 1 1 1 1 1 1 1 1 1 1 1 1 1 1 1 1 1 1 1 1 1 1 1 1 1 1 1 1 1 1 1 1 1 1 1 1 1 1 1 1 1 1 1 1 1 1 1 1 1 1 1 1 1 1 1 1 1 1 1\n",
            "I0821 09:27:05.867333 140154367981440 run_classifier.py:493] segment_ids: 0 0 0 0 0 0 0 0 0 0 0 0 0 0 0 0 0 0 0 0 0 0 0 0 0 0 0 0 0 0 0 0 0 0 0 0 0 0 0 0 0 0 0 0 0 0 0 0 0 0 0 0 0 0 0 0 0 0 0 0 0 0 0 0 0 0 0 0 0 0 0 0 0 0 0 0 0 0 0 0 0 0 0 0 0 0 0 0 0 0 0 0 0 0 0 0 0 0 0 0 0 0 0 0 0 0 0 0 0 0 0 0 0 0 0 0 0 0 0 0 0 0 0 0 0 0 0 0\n",
            "I0821 09:27:05.869171 140154367981440 run_classifier.py:494] label: 4 (id = 3)\n",
            "I0821 09:27:05.895159 140154367981440 run_classifier.py:487] *** Example ***\n",
            "I0821 09:27:05.896647 140154367981440 run_classifier.py:488] guid: train-2\n",
            "I0821 09:27:05.897959 140154367981440 run_classifier.py:490] tokens: [CLS] ▁ปอ เปี ๊ ยะ สด ▁ทุกวัน นี้ รู้สึก ว่า หากิน ยาก ▁( ร้าน ที่ขาย ปอ เปี ๊ ยะ สด อย่างเดียว ▁ส่วนมาก ที่ เจอ คือ ขาย ตาม ภัตตาคาร ซึ่ง มักจะ ไม่ค่อย อร ่อย ) ▁ร้าน นี้ ที่สะ พาน เหลือง ▁รา คาย ่อม เยา เพียงแค่ ▁ <unk> 0 ▁บาท ▁จึง ซื้อก ิน ทุก ครั้งที่ มา ▁รส ชาติด ี พอสมควร เลย โดยเฉพาะ เต้า ห ู้ กับ กุน เชียง ที่ใส่ มาให้ อย่าง จุ ใจ ▁รา ด น้ํา จิ้ม ที่ โอ เค ▁ไม่ ถึง กับ สุดยอด ▁เ สิ ร์ ฟ พ รั อม เครื่อง เคียง ต้น หอม กับ พริก เขียว ▁มา เสิร์ฟ ให้ ถึง โต๊ะ ▁( นั่ง กิน ร้าน ข้าง ๆ ) ▁คร บถ ้วน ได้ อารมณ์ ▁เอา ไป ▁ <unk> ▁ดาว ครับ คุณ ป้า สําหรับ อาหาร <unk> แต่ วัน นั้น [SEP]\n",
            "I0821 09:27:05.899219 140154367981440 run_classifier.py:491] input_ids: 1 21461 5084 24813 633 2237 4858 138 8306 121 9101 3434 33 3208 24651 9685 5084 24813 633 2237 11971 11364 13 9402 332 1191 395 20728 681 3225 11354 2811 718 24765 8916 138 10440 1847 1481 3833 5811 1705 9771 10293 24719 4 24728 6723 1236 17805 58 986 494 78 9214 14064 24731 13268 3179 4202 12022 24745 111 104 8612 1917 24653 22664 367 289 686 3833 24736 394 10003 13 323 225 2029 149 104 10024 11 327 40 24778 24748 108 226 771 721 452 3173 104 5646 1753 1227 13924 166 149 6332 33 2021 2191 3208 1109 24802 24765 693 17439 2600 61 6046 10259 157 24719 4 3114 22569 1384 20948 886 1062 4 340 70 489 2\n",
            "I0821 09:27:05.900518 140154367981440 run_classifier.py:492] input_mask: 1 1 1 1 1 1 1 1 1 1 1 1 1 1 1 1 1 1 1 1 1 1 1 1 1 1 1 1 1 1 1 1 1 1 1 1 1 1 1 1 1 1 1 1 1 1 1 1 1 1 1 1 1 1 1 1 1 1 1 1 1 1 1 1 1 1 1 1 1 1 1 1 1 1 1 1 1 1 1 1 1 1 1 1 1 1 1 1 1 1 1 1 1 1 1 1 1 1 1 1 1 1 1 1 1 1 1 1 1 1 1 1 1 1 1 1 1 1 1 1 1 1 1 1 1 1 1 1\n",
            "I0821 09:27:05.902743 140154367981440 run_classifier.py:493] segment_ids: 0 0 0 0 0 0 0 0 0 0 0 0 0 0 0 0 0 0 0 0 0 0 0 0 0 0 0 0 0 0 0 0 0 0 0 0 0 0 0 0 0 0 0 0 0 0 0 0 0 0 0 0 0 0 0 0 0 0 0 0 0 0 0 0 0 0 0 0 0 0 0 0 0 0 0 0 0 0 0 0 0 0 0 0 0 0 0 0 0 0 0 0 0 0 0 0 0 0 0 0 0 0 0 0 0 0 0 0 0 0 0 0 0 0 0 0 0 0 0 0 0 0 0 0 0 0 0 0\n",
            "I0821 09:27:05.905221 140154367981440 run_classifier.py:494] label: 3 (id = 2)\n",
            "I0821 09:27:05.945301 140154367981440 run_classifier.py:487] *** Example ***\n",
            "I0821 09:27:05.946596 140154367981440 run_classifier.py:488] guid: train-3\n",
            "I0821 09:27:05.947654 140154367981440 run_classifier.py:490] tokens: [CLS] ▁รั าน คัพ เค้ก ในเมือง ไทย มี ไม่มาก ▁หลาย ๆ คน อาจจะ สงสัย ว่า คัพ เค้ก คือ อะไร ▁ต่างจาก เค้ก ธรรมดา อย่างไร ▁จ ริง ๆ แล้ว คัพ เค้ก ก็เป็น ▁รูปแบบ ▁ หนึ่งของ เค้ก นั่น แหล ะ ครับ ▁แต่ว่า คัพ เค้ก จะมี จุดเด่น อยู่ที่ รสชาติ ที่เป็นเอกลักษณ์ ▁เพราะ ใช้ ส่วนผสมของ ครีม ชีส เป็นหลัก ในการทํา หน้า เค้ก ▁หรือ ที่เรียกว่า ▁f ro st ing ▁นอกจากนั้น ▁คัพ เค้ก ยัง ถือ ทาน ง่าย ▁ขน ย้าย ง่าย กว่า เค้ก ▁สุดท้าย คือการ ตกแต่ง ที่แตกต่างกัน อย่าง ชัด เจ นคร ับ ระหว่าง คัพ เค้ก กับ เค้ก ▁ซึ่ง การใช้ คัพ เค้ก ที่ ตกแต่ง สวย ๆ เพื่อ ใช้ในงาน แต่งงาน ▁งาน วันเกิด หรือ ▁event ▁ต่าง ๆ นั้น กําลัง มา เลย ทีเดียว ▁เรียก ได้ว่า คู่ ไหน ▁บริษัท ไหน อยาก ฮ ิป ▁ก็ ต้อง สั่ง คัพ เค้ก นี่ ล ่ะ ครับ [SEP]\n",
            "I0821 09:27:05.948946 140154367981440 run_classifier.py:491] input_ids: 1 15770 28 2389 10252 2810 233 35 13262 6306 24802 325 3784 16070 121 2389 10252 332 6883 17629 10252 6702 12190 109 1232 24802 559 2389 10252 8159 5995 24719 1002 10252 7335 1296 24742 22569 17293 2389 10252 1402 21658 1775 11447 16537 2350 169 14157 10707 20063 6098 8371 460 10252 207 3986 699 712 1199 1045 4581 14438 10252 368 965 1195 3106 7707 2141 3106 449 10252 18290 6090 6925 6533 367 2804 168 960 32 271 2389 10252 104 10252 238 4049 2389 10252 13 6925 6653 24802 625 19483 4536 2827 19437 135 19801 8206 24802 489 1575 78 3179 19008 4386 6612 1276 7992 1615 7992 5935 24793 1013 1750 835 3043 2389 10252 3688 24732 22499 22569 2\n",
            "I0821 09:27:05.950048 140154367981440 run_classifier.py:492] input_mask: 1 1 1 1 1 1 1 1 1 1 1 1 1 1 1 1 1 1 1 1 1 1 1 1 1 1 1 1 1 1 1 1 1 1 1 1 1 1 1 1 1 1 1 1 1 1 1 1 1 1 1 1 1 1 1 1 1 1 1 1 1 1 1 1 1 1 1 1 1 1 1 1 1 1 1 1 1 1 1 1 1 1 1 1 1 1 1 1 1 1 1 1 1 1 1 1 1 1 1 1 1 1 1 1 1 1 1 1 1 1 1 1 1 1 1 1 1 1 1 1 1 1 1 1 1 1 1 1\n",
            "I0821 09:27:05.951219 140154367981440 run_classifier.py:493] segment_ids: 0 0 0 0 0 0 0 0 0 0 0 0 0 0 0 0 0 0 0 0 0 0 0 0 0 0 0 0 0 0 0 0 0 0 0 0 0 0 0 0 0 0 0 0 0 0 0 0 0 0 0 0 0 0 0 0 0 0 0 0 0 0 0 0 0 0 0 0 0 0 0 0 0 0 0 0 0 0 0 0 0 0 0 0 0 0 0 0 0 0 0 0 0 0 0 0 0 0 0 0 0 0 0 0 0 0 0 0 0 0 0 0 0 0 0 0 0 0 0 0 0 0 0 0 0 0 0 0\n",
            "I0821 09:27:05.953625 140154367981440 run_classifier.py:494] label: 5 (id = 4)\n",
            "I0821 09:27:05.970872 140154367981440 run_classifier.py:487] *** Example ***\n",
            "I0821 09:27:05.973045 140154367981440 run_classifier.py:488] guid: train-4\n",
            "I0821 09:27:05.974494 140154367981440 run_classifier.py:490] tokens: [CLS] ▁อร ่อย !! ! ▁เดิน ผ่าน <unk> ig ital ▁g ate way ทุกวัน ▁ไม่ ย ัก รู้ ว่ามี ร้าน นี้ ▁( เอ ๊ะ หรือ พึ่ง เปิด ) <unk> หาง ่าย มาก ครับ ▁เดิน จาก <unk> สยาม เข้าม าก็ เห็น เลย ▁ร้าน สีชมพู แปร ๊น ๆ ▁ <unk> ไม่เคย ทาน c up ▁c ake เลย ▁แต่ ที่ ร้าน เค้า มี ให้ ชิม ▁พอ ได้ ชิม ครั้งแรก ก็ ติด ใจ เลย ครับ <unk> แล้วจะ ไป อุด หนุน ใหม่ ให้ คร บท ุ กร ส เลย ▁ ^ ^ [SEP]\n",
            "I0821 09:27:05.977166 140154367981440 run_classifier.py:491] input_ids: 1 10966 718 12247 24830 9654 746 4 1326 6780 774 3168 9912 2832 2029 24733 39 660 4165 3208 138 33 187 3962 135 14422 1038 24765 4 2453 310 329 22569 9654 80 4 4591 7947 3776 1439 3179 8916 6092 3955 16266 24802 24719 4 9505 1195 24785 2001 406 7323 3179 475 13 3208 9155 35 166 11412 10421 61 11412 656 606 705 686 3179 22569 4 12316 157 1965 18473 768 166 52 550 24755 186 24740 3179 24719 24987 24987 2 0 0 0 0 0 0 0 0 0 0 0 0 0 0 0 0 0 0 0 0 0 0 0 0 0 0 0 0 0 0 0 0 0 0 0 0 0 0 0 0\n",
            "I0821 09:27:05.980940 140154367981440 run_classifier.py:492] input_mask: 1 1 1 1 1 1 1 1 1 1 1 1 1 1 1 1 1 1 1 1 1 1 1 1 1 1 1 1 1 1 1 1 1 1 1 1 1 1 1 1 1 1 1 1 1 1 1 1 1 1 1 1 1 1 1 1 1 1 1 1 1 1 1 1 1 1 1 1 1 1 1 1 1 1 1 1 1 1 1 1 1 1 1 1 1 1 1 1 0 0 0 0 0 0 0 0 0 0 0 0 0 0 0 0 0 0 0 0 0 0 0 0 0 0 0 0 0 0 0 0 0 0 0 0 0 0 0 0\n",
            "I0821 09:27:05.981966 140154367981440 run_classifier.py:493] segment_ids: 0 0 0 0 0 0 0 0 0 0 0 0 0 0 0 0 0 0 0 0 0 0 0 0 0 0 0 0 0 0 0 0 0 0 0 0 0 0 0 0 0 0 0 0 0 0 0 0 0 0 0 0 0 0 0 0 0 0 0 0 0 0 0 0 0 0 0 0 0 0 0 0 0 0 0 0 0 0 0 0 0 0 0 0 0 0 0 0 0 0 0 0 0 0 0 0 0 0 0 0 0 0 0 0 0 0 0 0 0 0 0 0 0 0 0 0 0 0 0 0 0 0 0 0 0 0 0 0\n",
            "I0821 09:27:05.982891 140154367981440 run_classifier.py:494] label: 5 (id = 4)\n",
            "I0821 09:29:44.745856 140154367981440 run_classifier.py:512] Writing example 10000 of 40000\n",
            "I0821 09:32:02.801536 140154367981440 run_classifier.py:512] Writing example 20000 of 40000\n",
            "I0821 09:34:25.641306 140154367981440 run_classifier.py:512] Writing example 30000 of 40000\n",
            "I0821 09:36:49.182665 140154367981440 <ipython-input-15-3e94ed636c1a>:4] ***** Running training *****\n",
            "I0821 09:36:49.184223 140154367981440 <ipython-input-15-3e94ed636c1a>:5]   Num examples = 40000\n",
            "I0821 09:36:49.185519 140154367981440 <ipython-input-15-3e94ed636c1a>:6]   Batch size = 128\n",
            "I0821 09:36:49.187973 140154367981440 <ipython-input-15-3e94ed636c1a>:7]   Num steps = 937\n",
            "W0821 09:36:49.191025 140154367981440 deprecation_wrapper.py:119] From bert_thai/run_classifier.py:536: The name tf.FixedLenFeature is deprecated. Please use tf.io.FixedLenFeature instead.\n",
            "\n",
            "I0821 09:36:49.738965 140154367981440 tpu_system_metadata.py:78] Querying Tensorflow master (grpc://10.123.151.250:8470) for TPU system metadata.\n",
            "I0821 09:36:49.759191 140154367981440 tpu_system_metadata.py:148] Found TPU system:\n",
            "I0821 09:36:49.760531 140154367981440 tpu_system_metadata.py:149] *** Num TPU Cores: 8\n",
            "I0821 09:36:49.761586 140154367981440 tpu_system_metadata.py:150] *** Num TPU Workers: 1\n",
            "I0821 09:36:49.764780 140154367981440 tpu_system_metadata.py:152] *** Num TPU Cores Per Worker: 8\n",
            "I0821 09:36:49.769109 140154367981440 tpu_system_metadata.py:154] *** Available Device: _DeviceAttributes(/job:worker/replica:0/task:0/device:CPU:0, CPU, -1, 5164580629985135382)\n",
            "I0821 09:36:49.775336 140154367981440 tpu_system_metadata.py:154] *** Available Device: _DeviceAttributes(/job:worker/replica:0/task:0/device:TPU:0, TPU, 17179869184, 6213735751976984636)\n",
            "I0821 09:36:49.776792 140154367981440 tpu_system_metadata.py:154] *** Available Device: _DeviceAttributes(/job:worker/replica:0/task:0/device:TPU:1, TPU, 17179869184, 1257301642428864053)\n",
            "I0821 09:36:49.778196 140154367981440 tpu_system_metadata.py:154] *** Available Device: _DeviceAttributes(/job:worker/replica:0/task:0/device:TPU:2, TPU, 17179869184, 3896444144470866598)\n",
            "I0821 09:36:49.779360 140154367981440 tpu_system_metadata.py:154] *** Available Device: _DeviceAttributes(/job:worker/replica:0/task:0/device:TPU:3, TPU, 17179869184, 11557949942989894400)\n",
            "I0821 09:36:49.780428 140154367981440 tpu_system_metadata.py:154] *** Available Device: _DeviceAttributes(/job:worker/replica:0/task:0/device:TPU:4, TPU, 17179869184, 9787055620788696470)\n",
            "I0821 09:36:49.782229 140154367981440 tpu_system_metadata.py:154] *** Available Device: _DeviceAttributes(/job:worker/replica:0/task:0/device:TPU:5, TPU, 17179869184, 8556736308082469437)\n",
            "I0821 09:36:49.784112 140154367981440 tpu_system_metadata.py:154] *** Available Device: _DeviceAttributes(/job:worker/replica:0/task:0/device:TPU:6, TPU, 17179869184, 9186177757265636374)\n",
            "I0821 09:36:49.786484 140154367981440 tpu_system_metadata.py:154] *** Available Device: _DeviceAttributes(/job:worker/replica:0/task:0/device:TPU:7, TPU, 17179869184, 18282532829758598386)\n",
            "I0821 09:36:49.787665 140154367981440 tpu_system_metadata.py:154] *** Available Device: _DeviceAttributes(/job:worker/replica:0/task:0/device:TPU_SYSTEM:0, TPU_SYSTEM, 8589934592, 6874290177753691148)\n",
            "I0821 09:36:49.789474 140154367981440 tpu_system_metadata.py:154] *** Available Device: _DeviceAttributes(/job:worker/replica:0/task:0/device:XLA_CPU:0, XLA_CPU, 17179869184, 11837996157355801182)\n",
            "W0821 09:36:49.816009 140154367981440 deprecation.py:323] From /usr/local/lib/python3.6/dist-packages/tensorflow/python/training/training_util.py:236: Variable.initialized_value (from tensorflow.python.ops.variables) is deprecated and will be removed in a future version.\n",
            "Instructions for updating:\n",
            "Use Variable.read_value. Variables in 2.X are initialized automatically both in eager and graph (inside tf.defun) contexts.\n",
            "I0821 09:36:49.839063 140154367981440 estimator.py:1145] Calling model_fn.\n",
            "W0821 09:36:49.870190 140154367981440 deprecation.py:323] From bert_thai/run_classifier.py:571: map_and_batch (from tensorflow.contrib.data.python.ops.batching) is deprecated and will be removed in a future version.\n",
            "Instructions for updating:\n",
            "Use `tf.data.experimental.map_and_batch(...)`.\n",
            "W0821 09:36:49.871934 140154367981440 deprecation.py:323] From /usr/local/lib/python3.6/dist-packages/tensorflow/contrib/data/python/ops/batching.py:273: map_and_batch (from tensorflow.python.data.experimental.ops.batching) is deprecated and will be removed in a future version.\n",
            "Instructions for updating:\n",
            "Use `tf.data.Dataset.map(map_func, num_parallel_calls)` followed by `tf.data.Dataset.batch(batch_size, drop_remainder)`. Static tf.data optimizations will take care of using the fused implementation.\n",
            "W0821 09:36:49.877276 140154367981440 deprecation_wrapper.py:119] From bert_thai/run_classifier.py:544: The name tf.parse_single_example is deprecated. Please use tf.io.parse_single_example instead.\n",
            "\n",
            "W0821 09:36:49.886030 140154367981440 deprecation.py:323] From bert_thai/run_classifier.py:551: to_int32 (from tensorflow.python.ops.math_ops) is deprecated and will be removed in a future version.\n",
            "Instructions for updating:\n",
            "Use `tf.cast` instead.\n",
            "I0821 09:36:49.967529 140154367981440 run_classifier.py:648] *** Features ***\n",
            "I0821 09:36:49.968946 140154367981440 run_classifier.py:650]   name = input_ids, shape = (16, 128)\n",
            "I0821 09:36:49.969934 140154367981440 run_classifier.py:650]   name = input_mask, shape = (16, 128)\n",
            "I0821 09:36:49.971132 140154367981440 run_classifier.py:650]   name = label_ids, shape = (16,)\n",
            "I0821 09:36:49.972412 140154367981440 run_classifier.py:650]   name = segment_ids, shape = (16, 128)\n",
            "W0821 09:36:49.973531 140154367981440 deprecation_wrapper.py:119] From bert_thai/modeling.py:172: The name tf.variable_scope is deprecated. Please use tf.compat.v1.variable_scope instead.\n",
            "\n",
            "W0821 09:36:49.980559 140154367981440 deprecation_wrapper.py:119] From bert_thai/modeling.py:411: The name tf.get_variable is deprecated. Please use tf.compat.v1.get_variable instead.\n",
            "\n",
            "W0821 09:36:50.077942 140154367981440 deprecation.py:506] From bert_thai/modeling.py:359: calling dropout (from tensorflow.python.ops.nn_ops) with keep_prob is deprecated and will be removed in a future version.\n",
            "Instructions for updating:\n",
            "Please use `rate` instead of `keep_prob`. Rate should be set to `rate = 1 - keep_prob`.\n",
            "W0821 09:36:50.107148 140154367981440 deprecation.py:323] From bert_thai/modeling.py:680: dense (from tensorflow.python.layers.core) is deprecated and will be removed in a future version.\n",
            "Instructions for updating:\n",
            "Use keras.layers.dense instead.\n",
            "W0821 09:36:50.804551 140154367981440 deprecation_wrapper.py:119] From /usr/local/lib/python3.6/dist-packages/tensorflow/python/autograph/converters/directives.py:117: The name tf.erf is deprecated. Please use tf.math.erf instead.\n",
            "\n",
            "I0821 09:36:55.880592 140154367981440 run_classifier.py:679] **** Trainable Variables ****\n",
            "I0821 09:36:55.882112 140154367981440 run_classifier.py:685]   name = bert/embeddings/word_embeddings:0, shape = (25004, 768), *INIT_FROM_CKPT*\n",
            "I0821 09:36:55.883202 140154367981440 run_classifier.py:685]   name = bert/embeddings/token_type_embeddings:0, shape = (2, 768), *INIT_FROM_CKPT*\n",
            "I0821 09:36:55.889711 140154367981440 run_classifier.py:685]   name = bert/embeddings/position_embeddings:0, shape = (512, 768), *INIT_FROM_CKPT*\n",
            "I0821 09:36:55.892744 140154367981440 run_classifier.py:685]   name = bert/embeddings/LayerNorm/beta:0, shape = (768,), *INIT_FROM_CKPT*\n",
            "I0821 09:36:55.898234 140154367981440 run_classifier.py:685]   name = bert/embeddings/LayerNorm/gamma:0, shape = (768,), *INIT_FROM_CKPT*\n",
            "I0821 09:36:55.900622 140154367981440 run_classifier.py:685]   name = bert/encoder/layer_0/attention/self/query/kernel:0, shape = (768, 768), *INIT_FROM_CKPT*\n",
            "I0821 09:36:55.901969 140154367981440 run_classifier.py:685]   name = bert/encoder/layer_0/attention/self/query/bias:0, shape = (768,), *INIT_FROM_CKPT*\n",
            "I0821 09:36:55.903587 140154367981440 run_classifier.py:685]   name = bert/encoder/layer_0/attention/self/key/kernel:0, shape = (768, 768), *INIT_FROM_CKPT*\n",
            "I0821 09:36:55.906519 140154367981440 run_classifier.py:685]   name = bert/encoder/layer_0/attention/self/key/bias:0, shape = (768,), *INIT_FROM_CKPT*\n",
            "I0821 09:36:55.907724 140154367981440 run_classifier.py:685]   name = bert/encoder/layer_0/attention/self/value/kernel:0, shape = (768, 768), *INIT_FROM_CKPT*\n",
            "I0821 09:36:55.909222 140154367981440 run_classifier.py:685]   name = bert/encoder/layer_0/attention/self/value/bias:0, shape = (768,), *INIT_FROM_CKPT*\n",
            "I0821 09:36:55.912024 140154367981440 run_classifier.py:685]   name = bert/encoder/layer_0/attention/output/dense/kernel:0, shape = (768, 768), *INIT_FROM_CKPT*\n",
            "I0821 09:36:55.913072 140154367981440 run_classifier.py:685]   name = bert/encoder/layer_0/attention/output/dense/bias:0, shape = (768,), *INIT_FROM_CKPT*\n",
            "I0821 09:36:55.916532 140154367981440 run_classifier.py:685]   name = bert/encoder/layer_0/attention/output/LayerNorm/beta:0, shape = (768,), *INIT_FROM_CKPT*\n",
            "I0821 09:36:55.917812 140154367981440 run_classifier.py:685]   name = bert/encoder/layer_0/attention/output/LayerNorm/gamma:0, shape = (768,), *INIT_FROM_CKPT*\n",
            "I0821 09:36:55.919396 140154367981440 run_classifier.py:685]   name = bert/encoder/layer_0/intermediate/dense/kernel:0, shape = (768, 3072), *INIT_FROM_CKPT*\n",
            "I0821 09:36:55.921952 140154367981440 run_classifier.py:685]   name = bert/encoder/layer_0/intermediate/dense/bias:0, shape = (3072,), *INIT_FROM_CKPT*\n",
            "I0821 09:36:55.923550 140154367981440 run_classifier.py:685]   name = bert/encoder/layer_0/output/dense/kernel:0, shape = (3072, 768), *INIT_FROM_CKPT*\n",
            "I0821 09:36:55.925302 140154367981440 run_classifier.py:685]   name = bert/encoder/layer_0/output/dense/bias:0, shape = (768,), *INIT_FROM_CKPT*\n",
            "I0821 09:36:55.927672 140154367981440 run_classifier.py:685]   name = bert/encoder/layer_0/output/LayerNorm/beta:0, shape = (768,), *INIT_FROM_CKPT*\n",
            "I0821 09:36:55.928749 140154367981440 run_classifier.py:685]   name = bert/encoder/layer_0/output/LayerNorm/gamma:0, shape = (768,), *INIT_FROM_CKPT*\n",
            "I0821 09:36:55.930088 140154367981440 run_classifier.py:685]   name = bert/encoder/layer_1/attention/self/query/kernel:0, shape = (768, 768), *INIT_FROM_CKPT*\n",
            "I0821 09:36:55.931287 140154367981440 run_classifier.py:685]   name = bert/encoder/layer_1/attention/self/query/bias:0, shape = (768,), *INIT_FROM_CKPT*\n",
            "I0821 09:36:55.932396 140154367981440 run_classifier.py:685]   name = bert/encoder/layer_1/attention/self/key/kernel:0, shape = (768, 768), *INIT_FROM_CKPT*\n",
            "I0821 09:36:55.933689 140154367981440 run_classifier.py:685]   name = bert/encoder/layer_1/attention/self/key/bias:0, shape = (768,), *INIT_FROM_CKPT*\n",
            "I0821 09:36:55.935063 140154367981440 run_classifier.py:685]   name = bert/encoder/layer_1/attention/self/value/kernel:0, shape = (768, 768), *INIT_FROM_CKPT*\n",
            "I0821 09:36:55.936061 140154367981440 run_classifier.py:685]   name = bert/encoder/layer_1/attention/self/value/bias:0, shape = (768,), *INIT_FROM_CKPT*\n",
            "I0821 09:36:55.937353 140154367981440 run_classifier.py:685]   name = bert/encoder/layer_1/attention/output/dense/kernel:0, shape = (768, 768), *INIT_FROM_CKPT*\n",
            "I0821 09:36:55.938678 140154367981440 run_classifier.py:685]   name = bert/encoder/layer_1/attention/output/dense/bias:0, shape = (768,), *INIT_FROM_CKPT*\n",
            "I0821 09:36:55.939768 140154367981440 run_classifier.py:685]   name = bert/encoder/layer_1/attention/output/LayerNorm/beta:0, shape = (768,), *INIT_FROM_CKPT*\n",
            "I0821 09:36:55.941056 140154367981440 run_classifier.py:685]   name = bert/encoder/layer_1/attention/output/LayerNorm/gamma:0, shape = (768,), *INIT_FROM_CKPT*\n",
            "I0821 09:36:55.942374 140154367981440 run_classifier.py:685]   name = bert/encoder/layer_1/intermediate/dense/kernel:0, shape = (768, 3072), *INIT_FROM_CKPT*\n",
            "I0821 09:36:55.943465 140154367981440 run_classifier.py:685]   name = bert/encoder/layer_1/intermediate/dense/bias:0, shape = (3072,), *INIT_FROM_CKPT*\n",
            "I0821 09:36:55.944720 140154367981440 run_classifier.py:685]   name = bert/encoder/layer_1/output/dense/kernel:0, shape = (3072, 768), *INIT_FROM_CKPT*\n",
            "I0821 09:36:55.945801 140154367981440 run_classifier.py:685]   name = bert/encoder/layer_1/output/dense/bias:0, shape = (768,), *INIT_FROM_CKPT*\n",
            "I0821 09:36:55.947064 140154367981440 run_classifier.py:685]   name = bert/encoder/layer_1/output/LayerNorm/beta:0, shape = (768,), *INIT_FROM_CKPT*\n",
            "I0821 09:36:55.948338 140154367981440 run_classifier.py:685]   name = bert/encoder/layer_1/output/LayerNorm/gamma:0, shape = (768,), *INIT_FROM_CKPT*\n",
            "I0821 09:36:55.949421 140154367981440 run_classifier.py:685]   name = bert/encoder/layer_2/attention/self/query/kernel:0, shape = (768, 768), *INIT_FROM_CKPT*\n",
            "I0821 09:36:55.950648 140154367981440 run_classifier.py:685]   name = bert/encoder/layer_2/attention/self/query/bias:0, shape = (768,), *INIT_FROM_CKPT*\n",
            "I0821 09:36:55.951700 140154367981440 run_classifier.py:685]   name = bert/encoder/layer_2/attention/self/key/kernel:0, shape = (768, 768), *INIT_FROM_CKPT*\n",
            "I0821 09:36:55.953001 140154367981440 run_classifier.py:685]   name = bert/encoder/layer_2/attention/self/key/bias:0, shape = (768,), *INIT_FROM_CKPT*\n",
            "I0821 09:36:55.954272 140154367981440 run_classifier.py:685]   name = bert/encoder/layer_2/attention/self/value/kernel:0, shape = (768, 768), *INIT_FROM_CKPT*\n",
            "I0821 09:36:55.955472 140154367981440 run_classifier.py:685]   name = bert/encoder/layer_2/attention/self/value/bias:0, shape = (768,), *INIT_FROM_CKPT*\n",
            "I0821 09:36:55.956734 140154367981440 run_classifier.py:685]   name = bert/encoder/layer_2/attention/output/dense/kernel:0, shape = (768, 768), *INIT_FROM_CKPT*\n",
            "I0821 09:36:55.958003 140154367981440 run_classifier.py:685]   name = bert/encoder/layer_2/attention/output/dense/bias:0, shape = (768,), *INIT_FROM_CKPT*\n",
            "I0821 09:36:55.959073 140154367981440 run_classifier.py:685]   name = bert/encoder/layer_2/attention/output/LayerNorm/beta:0, shape = (768,), *INIT_FROM_CKPT*\n",
            "I0821 09:36:55.960309 140154367981440 run_classifier.py:685]   name = bert/encoder/layer_2/attention/output/LayerNorm/gamma:0, shape = (768,), *INIT_FROM_CKPT*\n",
            "I0821 09:36:55.961513 140154367981440 run_classifier.py:685]   name = bert/encoder/layer_2/intermediate/dense/kernel:0, shape = (768, 3072), *INIT_FROM_CKPT*\n",
            "I0821 09:36:55.962654 140154367981440 run_classifier.py:685]   name = bert/encoder/layer_2/intermediate/dense/bias:0, shape = (3072,), *INIT_FROM_CKPT*\n",
            "I0821 09:36:55.963894 140154367981440 run_classifier.py:685]   name = bert/encoder/layer_2/output/dense/kernel:0, shape = (3072, 768), *INIT_FROM_CKPT*\n",
            "I0821 09:36:55.965117 140154367981440 run_classifier.py:685]   name = bert/encoder/layer_2/output/dense/bias:0, shape = (768,), *INIT_FROM_CKPT*\n",
            "I0821 09:36:55.966204 140154367981440 run_classifier.py:685]   name = bert/encoder/layer_2/output/LayerNorm/beta:0, shape = (768,), *INIT_FROM_CKPT*\n",
            "I0821 09:36:55.967281 140154367981440 run_classifier.py:685]   name = bert/encoder/layer_2/output/LayerNorm/gamma:0, shape = (768,), *INIT_FROM_CKPT*\n",
            "I0821 09:36:55.968531 140154367981440 run_classifier.py:685]   name = bert/encoder/layer_3/attention/self/query/kernel:0, shape = (768, 768), *INIT_FROM_CKPT*\n",
            "I0821 09:36:55.969630 140154367981440 run_classifier.py:685]   name = bert/encoder/layer_3/attention/self/query/bias:0, shape = (768,), *INIT_FROM_CKPT*\n",
            "I0821 09:36:55.971008 140154367981440 run_classifier.py:685]   name = bert/encoder/layer_3/attention/self/key/kernel:0, shape = (768, 768), *INIT_FROM_CKPT*\n",
            "I0821 09:36:55.972132 140154367981440 run_classifier.py:685]   name = bert/encoder/layer_3/attention/self/key/bias:0, shape = (768,), *INIT_FROM_CKPT*\n",
            "I0821 09:36:55.973426 140154367981440 run_classifier.py:685]   name = bert/encoder/layer_3/attention/self/value/kernel:0, shape = (768, 768), *INIT_FROM_CKPT*\n",
            "I0821 09:36:55.974650 140154367981440 run_classifier.py:685]   name = bert/encoder/layer_3/attention/self/value/bias:0, shape = (768,), *INIT_FROM_CKPT*\n",
            "I0821 09:36:55.975715 140154367981440 run_classifier.py:685]   name = bert/encoder/layer_3/attention/output/dense/kernel:0, shape = (768, 768), *INIT_FROM_CKPT*\n",
            "I0821 09:36:55.976904 140154367981440 run_classifier.py:685]   name = bert/encoder/layer_3/attention/output/dense/bias:0, shape = (768,), *INIT_FROM_CKPT*\n",
            "I0821 09:36:55.978008 140154367981440 run_classifier.py:685]   name = bert/encoder/layer_3/attention/output/LayerNorm/beta:0, shape = (768,), *INIT_FROM_CKPT*\n",
            "I0821 09:36:55.979236 140154367981440 run_classifier.py:685]   name = bert/encoder/layer_3/attention/output/LayerNorm/gamma:0, shape = (768,), *INIT_FROM_CKPT*\n",
            "I0821 09:36:55.980479 140154367981440 run_classifier.py:685]   name = bert/encoder/layer_3/intermediate/dense/kernel:0, shape = (768, 3072), *INIT_FROM_CKPT*\n",
            "I0821 09:36:55.981548 140154367981440 run_classifier.py:685]   name = bert/encoder/layer_3/intermediate/dense/bias:0, shape = (3072,), *INIT_FROM_CKPT*\n",
            "I0821 09:36:55.982848 140154367981440 run_classifier.py:685]   name = bert/encoder/layer_3/output/dense/kernel:0, shape = (3072, 768), *INIT_FROM_CKPT*\n",
            "I0821 09:36:55.984077 140154367981440 run_classifier.py:685]   name = bert/encoder/layer_3/output/dense/bias:0, shape = (768,), *INIT_FROM_CKPT*\n",
            "I0821 09:36:55.985152 140154367981440 run_classifier.py:685]   name = bert/encoder/layer_3/output/LayerNorm/beta:0, shape = (768,), *INIT_FROM_CKPT*\n",
            "I0821 09:36:55.986448 140154367981440 run_classifier.py:685]   name = bert/encoder/layer_3/output/LayerNorm/gamma:0, shape = (768,), *INIT_FROM_CKPT*\n",
            "I0821 09:36:55.987720 140154367981440 run_classifier.py:685]   name = bert/encoder/layer_4/attention/self/query/kernel:0, shape = (768, 768), *INIT_FROM_CKPT*\n",
            "I0821 09:36:55.988821 140154367981440 run_classifier.py:685]   name = bert/encoder/layer_4/attention/self/query/bias:0, shape = (768,), *INIT_FROM_CKPT*\n",
            "I0821 09:36:55.990278 140154367981440 run_classifier.py:685]   name = bert/encoder/layer_4/attention/self/key/kernel:0, shape = (768, 768), *INIT_FROM_CKPT*\n",
            "I0821 09:36:55.991681 140154367981440 run_classifier.py:685]   name = bert/encoder/layer_4/attention/self/key/bias:0, shape = (768,), *INIT_FROM_CKPT*\n",
            "I0821 09:36:55.992800 140154367981440 run_classifier.py:685]   name = bert/encoder/layer_4/attention/self/value/kernel:0, shape = (768, 768), *INIT_FROM_CKPT*\n",
            "I0821 09:36:55.994109 140154367981440 run_classifier.py:685]   name = bert/encoder/layer_4/attention/self/value/bias:0, shape = (768,), *INIT_FROM_CKPT*\n",
            "I0821 09:36:55.995331 140154367981440 run_classifier.py:685]   name = bert/encoder/layer_4/attention/output/dense/kernel:0, shape = (768, 768), *INIT_FROM_CKPT*\n",
            "I0821 09:36:55.996414 140154367981440 run_classifier.py:685]   name = bert/encoder/layer_4/attention/output/dense/bias:0, shape = (768,), *INIT_FROM_CKPT*\n",
            "I0821 09:36:55.997732 140154367981440 run_classifier.py:685]   name = bert/encoder/layer_4/attention/output/LayerNorm/beta:0, shape = (768,), *INIT_FROM_CKPT*\n",
            "I0821 09:36:55.998842 140154367981440 run_classifier.py:685]   name = bert/encoder/layer_4/attention/output/LayerNorm/gamma:0, shape = (768,), *INIT_FROM_CKPT*\n",
            "I0821 09:36:55.999839 140154367981440 run_classifier.py:685]   name = bert/encoder/layer_4/intermediate/dense/kernel:0, shape = (768, 3072), *INIT_FROM_CKPT*\n",
            "I0821 09:36:56.005871 140154367981440 run_classifier.py:685]   name = bert/encoder/layer_4/intermediate/dense/bias:0, shape = (3072,), *INIT_FROM_CKPT*\n",
            "I0821 09:36:56.007368 140154367981440 run_classifier.py:685]   name = bert/encoder/layer_4/output/dense/kernel:0, shape = (3072, 768), *INIT_FROM_CKPT*\n",
            "I0821 09:36:56.008489 140154367981440 run_classifier.py:685]   name = bert/encoder/layer_4/output/dense/bias:0, shape = (768,), *INIT_FROM_CKPT*\n",
            "I0821 09:36:56.009532 140154367981440 run_classifier.py:685]   name = bert/encoder/layer_4/output/LayerNorm/beta:0, shape = (768,), *INIT_FROM_CKPT*\n",
            "I0821 09:36:56.019495 140154367981440 run_classifier.py:685]   name = bert/encoder/layer_4/output/LayerNorm/gamma:0, shape = (768,), *INIT_FROM_CKPT*\n",
            "I0821 09:36:56.021182 140154367981440 run_classifier.py:685]   name = bert/encoder/layer_5/attention/self/query/kernel:0, shape = (768, 768), *INIT_FROM_CKPT*\n",
            "I0821 09:36:56.022522 140154367981440 run_classifier.py:685]   name = bert/encoder/layer_5/attention/self/query/bias:0, shape = (768,), *INIT_FROM_CKPT*\n",
            "I0821 09:36:56.023961 140154367981440 run_classifier.py:685]   name = bert/encoder/layer_5/attention/self/key/kernel:0, shape = (768, 768), *INIT_FROM_CKPT*\n",
            "I0821 09:36:56.025331 140154367981440 run_classifier.py:685]   name = bert/encoder/layer_5/attention/self/key/bias:0, shape = (768,), *INIT_FROM_CKPT*\n",
            "I0821 09:36:56.026446 140154367981440 run_classifier.py:685]   name = bert/encoder/layer_5/attention/self/value/kernel:0, shape = (768, 768), *INIT_FROM_CKPT*\n",
            "I0821 09:36:56.027755 140154367981440 run_classifier.py:685]   name = bert/encoder/layer_5/attention/self/value/bias:0, shape = (768,), *INIT_FROM_CKPT*\n",
            "I0821 09:36:56.029039 140154367981440 run_classifier.py:685]   name = bert/encoder/layer_5/attention/output/dense/kernel:0, shape = (768, 768), *INIT_FROM_CKPT*\n",
            "I0821 09:36:56.030142 140154367981440 run_classifier.py:685]   name = bert/encoder/layer_5/attention/output/dense/bias:0, shape = (768,), *INIT_FROM_CKPT*\n",
            "I0821 09:36:56.031400 140154367981440 run_classifier.py:685]   name = bert/encoder/layer_5/attention/output/LayerNorm/beta:0, shape = (768,), *INIT_FROM_CKPT*\n",
            "I0821 09:36:56.032534 140154367981440 run_classifier.py:685]   name = bert/encoder/layer_5/attention/output/LayerNorm/gamma:0, shape = (768,), *INIT_FROM_CKPT*\n",
            "I0821 09:36:56.033958 140154367981440 run_classifier.py:685]   name = bert/encoder/layer_5/intermediate/dense/kernel:0, shape = (768, 3072), *INIT_FROM_CKPT*\n",
            "I0821 09:36:56.035068 140154367981440 run_classifier.py:685]   name = bert/encoder/layer_5/intermediate/dense/bias:0, shape = (3072,), *INIT_FROM_CKPT*\n",
            "I0821 09:36:56.036445 140154367981440 run_classifier.py:685]   name = bert/encoder/layer_5/output/dense/kernel:0, shape = (3072, 768), *INIT_FROM_CKPT*\n",
            "I0821 09:36:56.037742 140154367981440 run_classifier.py:685]   name = bert/encoder/layer_5/output/dense/bias:0, shape = (768,), *INIT_FROM_CKPT*\n",
            "I0821 09:36:56.038847 140154367981440 run_classifier.py:685]   name = bert/encoder/layer_5/output/LayerNorm/beta:0, shape = (768,), *INIT_FROM_CKPT*\n",
            "I0821 09:36:56.040100 140154367981440 run_classifier.py:685]   name = bert/encoder/layer_5/output/LayerNorm/gamma:0, shape = (768,), *INIT_FROM_CKPT*\n",
            "I0821 09:36:56.041193 140154367981440 run_classifier.py:685]   name = bert/encoder/layer_6/attention/self/query/kernel:0, shape = (768, 768), *INIT_FROM_CKPT*\n",
            "I0821 09:36:56.042540 140154367981440 run_classifier.py:685]   name = bert/encoder/layer_6/attention/self/query/bias:0, shape = (768,), *INIT_FROM_CKPT*\n",
            "I0821 09:36:56.043766 140154367981440 run_classifier.py:685]   name = bert/encoder/layer_6/attention/self/key/kernel:0, shape = (768, 768), *INIT_FROM_CKPT*\n",
            "I0821 09:36:56.044841 140154367981440 run_classifier.py:685]   name = bert/encoder/layer_6/attention/self/key/bias:0, shape = (768,), *INIT_FROM_CKPT*\n",
            "I0821 09:36:56.046171 140154367981440 run_classifier.py:685]   name = bert/encoder/layer_6/attention/self/value/kernel:0, shape = (768, 768), *INIT_FROM_CKPT*\n",
            "I0821 09:36:56.047417 140154367981440 run_classifier.py:685]   name = bert/encoder/layer_6/attention/self/value/bias:0, shape = (768,), *INIT_FROM_CKPT*\n",
            "I0821 09:36:56.048497 140154367981440 run_classifier.py:685]   name = bert/encoder/layer_6/attention/output/dense/kernel:0, shape = (768, 768), *INIT_FROM_CKPT*\n",
            "I0821 09:36:56.049766 140154367981440 run_classifier.py:685]   name = bert/encoder/layer_6/attention/output/dense/bias:0, shape = (768,), *INIT_FROM_CKPT*\n",
            "I0821 09:36:56.051043 140154367981440 run_classifier.py:685]   name = bert/encoder/layer_6/attention/output/LayerNorm/beta:0, shape = (768,), *INIT_FROM_CKPT*\n",
            "I0821 09:36:56.052281 140154367981440 run_classifier.py:685]   name = bert/encoder/layer_6/attention/output/LayerNorm/gamma:0, shape = (768,), *INIT_FROM_CKPT*\n",
            "I0821 09:36:56.053584 140154367981440 run_classifier.py:685]   name = bert/encoder/layer_6/intermediate/dense/kernel:0, shape = (768, 3072), *INIT_FROM_CKPT*\n",
            "I0821 09:36:56.054847 140154367981440 run_classifier.py:685]   name = bert/encoder/layer_6/intermediate/dense/bias:0, shape = (3072,), *INIT_FROM_CKPT*\n",
            "I0821 09:36:56.055907 140154367981440 run_classifier.py:685]   name = bert/encoder/layer_6/output/dense/kernel:0, shape = (3072, 768), *INIT_FROM_CKPT*\n",
            "I0821 09:36:56.057228 140154367981440 run_classifier.py:685]   name = bert/encoder/layer_6/output/dense/bias:0, shape = (768,), *INIT_FROM_CKPT*\n",
            "I0821 09:36:56.058522 140154367981440 run_classifier.py:685]   name = bert/encoder/layer_6/output/LayerNorm/beta:0, shape = (768,), *INIT_FROM_CKPT*\n",
            "I0821 09:36:56.059577 140154367981440 run_classifier.py:685]   name = bert/encoder/layer_6/output/LayerNorm/gamma:0, shape = (768,), *INIT_FROM_CKPT*\n",
            "I0821 09:36:56.060894 140154367981440 run_classifier.py:685]   name = bert/encoder/layer_7/attention/self/query/kernel:0, shape = (768, 768), *INIT_FROM_CKPT*\n",
            "I0821 09:36:56.062201 140154367981440 run_classifier.py:685]   name = bert/encoder/layer_7/attention/self/query/bias:0, shape = (768,), *INIT_FROM_CKPT*\n",
            "I0821 09:36:56.063405 140154367981440 run_classifier.py:685]   name = bert/encoder/layer_7/attention/self/key/kernel:0, shape = (768, 768), *INIT_FROM_CKPT*\n",
            "I0821 09:36:56.064729 140154367981440 run_classifier.py:685]   name = bert/encoder/layer_7/attention/self/key/bias:0, shape = (768,), *INIT_FROM_CKPT*\n",
            "I0821 09:36:56.065951 140154367981440 run_classifier.py:685]   name = bert/encoder/layer_7/attention/self/value/kernel:0, shape = (768, 768), *INIT_FROM_CKPT*\n",
            "I0821 09:36:56.067067 140154367981440 run_classifier.py:685]   name = bert/encoder/layer_7/attention/self/value/bias:0, shape = (768,), *INIT_FROM_CKPT*\n",
            "I0821 09:36:56.068321 140154367981440 run_classifier.py:685]   name = bert/encoder/layer_7/attention/output/dense/kernel:0, shape = (768, 768), *INIT_FROM_CKPT*\n",
            "I0821 09:36:56.069579 140154367981440 run_classifier.py:685]   name = bert/encoder/layer_7/attention/output/dense/bias:0, shape = (768,), *INIT_FROM_CKPT*\n",
            "I0821 09:36:56.070623 140154367981440 run_classifier.py:685]   name = bert/encoder/layer_7/attention/output/LayerNorm/beta:0, shape = (768,), *INIT_FROM_CKPT*\n",
            "I0821 09:36:56.071902 140154367981440 run_classifier.py:685]   name = bert/encoder/layer_7/attention/output/LayerNorm/gamma:0, shape = (768,), *INIT_FROM_CKPT*\n",
            "I0821 09:36:56.073271 140154367981440 run_classifier.py:685]   name = bert/encoder/layer_7/intermediate/dense/kernel:0, shape = (768, 3072), *INIT_FROM_CKPT*\n",
            "I0821 09:36:56.074357 140154367981440 run_classifier.py:685]   name = bert/encoder/layer_7/intermediate/dense/bias:0, shape = (3072,), *INIT_FROM_CKPT*\n",
            "I0821 09:36:56.075637 140154367981440 run_classifier.py:685]   name = bert/encoder/layer_7/output/dense/kernel:0, shape = (3072, 768), *INIT_FROM_CKPT*\n",
            "I0821 09:36:56.076901 140154367981440 run_classifier.py:685]   name = bert/encoder/layer_7/output/dense/bias:0, shape = (768,), *INIT_FROM_CKPT*\n",
            "I0821 09:36:56.078005 140154367981440 run_classifier.py:685]   name = bert/encoder/layer_7/output/LayerNorm/beta:0, shape = (768,), *INIT_FROM_CKPT*\n",
            "I0821 09:36:56.079512 140154367981440 run_classifier.py:685]   name = bert/encoder/layer_7/output/LayerNorm/gamma:0, shape = (768,), *INIT_FROM_CKPT*\n",
            "I0821 09:36:56.080607 140154367981440 run_classifier.py:685]   name = bert/encoder/layer_8/attention/self/query/kernel:0, shape = (768, 768), *INIT_FROM_CKPT*\n",
            "I0821 09:36:56.082543 140154367981440 run_classifier.py:685]   name = bert/encoder/layer_8/attention/self/query/bias:0, shape = (768,), *INIT_FROM_CKPT*\n",
            "I0821 09:36:56.083885 140154367981440 run_classifier.py:685]   name = bert/encoder/layer_8/attention/self/key/kernel:0, shape = (768, 768), *INIT_FROM_CKPT*\n",
            "I0821 09:36:56.084944 140154367981440 run_classifier.py:685]   name = bert/encoder/layer_8/attention/self/key/bias:0, shape = (768,), *INIT_FROM_CKPT*\n",
            "I0821 09:36:56.085996 140154367981440 run_classifier.py:685]   name = bert/encoder/layer_8/attention/self/value/kernel:0, shape = (768, 768), *INIT_FROM_CKPT*\n",
            "I0821 09:36:56.087303 140154367981440 run_classifier.py:685]   name = bert/encoder/layer_8/attention/self/value/bias:0, shape = (768,), *INIT_FROM_CKPT*\n",
            "I0821 09:36:56.088531 140154367981440 run_classifier.py:685]   name = bert/encoder/layer_8/attention/output/dense/kernel:0, shape = (768, 768), *INIT_FROM_CKPT*\n",
            "I0821 09:36:56.090325 140154367981440 run_classifier.py:685]   name = bert/encoder/layer_8/attention/output/dense/bias:0, shape = (768,), *INIT_FROM_CKPT*\n",
            "I0821 09:36:56.091563 140154367981440 run_classifier.py:685]   name = bert/encoder/layer_8/attention/output/LayerNorm/beta:0, shape = (768,), *INIT_FROM_CKPT*\n",
            "I0821 09:36:56.092616 140154367981440 run_classifier.py:685]   name = bert/encoder/layer_8/attention/output/LayerNorm/gamma:0, shape = (768,), *INIT_FROM_CKPT*\n",
            "I0821 09:36:56.094120 140154367981440 run_classifier.py:685]   name = bert/encoder/layer_8/intermediate/dense/kernel:0, shape = (768, 3072), *INIT_FROM_CKPT*\n",
            "I0821 09:36:56.095388 140154367981440 run_classifier.py:685]   name = bert/encoder/layer_8/intermediate/dense/bias:0, shape = (3072,), *INIT_FROM_CKPT*\n",
            "I0821 09:36:56.096446 140154367981440 run_classifier.py:685]   name = bert/encoder/layer_8/output/dense/kernel:0, shape = (3072, 768), *INIT_FROM_CKPT*\n",
            "I0821 09:36:56.097749 140154367981440 run_classifier.py:685]   name = bert/encoder/layer_8/output/dense/bias:0, shape = (768,), *INIT_FROM_CKPT*\n",
            "I0821 09:36:56.098794 140154367981440 run_classifier.py:685]   name = bert/encoder/layer_8/output/LayerNorm/beta:0, shape = (768,), *INIT_FROM_CKPT*\n",
            "I0821 09:36:56.100092 140154367981440 run_classifier.py:685]   name = bert/encoder/layer_8/output/LayerNorm/gamma:0, shape = (768,), *INIT_FROM_CKPT*\n",
            "I0821 09:36:56.101360 140154367981440 run_classifier.py:685]   name = bert/encoder/layer_9/attention/self/query/kernel:0, shape = (768, 768), *INIT_FROM_CKPT*\n",
            "I0821 09:36:56.103175 140154367981440 run_classifier.py:685]   name = bert/encoder/layer_9/attention/self/query/bias:0, shape = (768,), *INIT_FROM_CKPT*\n",
            "I0821 09:36:56.104490 140154367981440 run_classifier.py:685]   name = bert/encoder/layer_9/attention/self/key/kernel:0, shape = (768, 768), *INIT_FROM_CKPT*\n",
            "I0821 09:36:56.105820 140154367981440 run_classifier.py:685]   name = bert/encoder/layer_9/attention/self/key/bias:0, shape = (768,), *INIT_FROM_CKPT*\n",
            "I0821 09:36:56.106877 140154367981440 run_classifier.py:685]   name = bert/encoder/layer_9/attention/self/value/kernel:0, shape = (768, 768), *INIT_FROM_CKPT*\n",
            "I0821 09:36:56.108754 140154367981440 run_classifier.py:685]   name = bert/encoder/layer_9/attention/self/value/bias:0, shape = (768,), *INIT_FROM_CKPT*\n",
            "I0821 09:36:56.110498 140154367981440 run_classifier.py:685]   name = bert/encoder/layer_9/attention/output/dense/kernel:0, shape = (768, 768), *INIT_FROM_CKPT*\n",
            "I0821 09:36:56.111989 140154367981440 run_classifier.py:685]   name = bert/encoder/layer_9/attention/output/dense/bias:0, shape = (768,), *INIT_FROM_CKPT*\n",
            "I0821 09:36:56.112858 140154367981440 run_classifier.py:685]   name = bert/encoder/layer_9/attention/output/LayerNorm/beta:0, shape = (768,), *INIT_FROM_CKPT*\n",
            "I0821 09:36:56.114726 140154367981440 run_classifier.py:685]   name = bert/encoder/layer_9/attention/output/LayerNorm/gamma:0, shape = (768,), *INIT_FROM_CKPT*\n",
            "I0821 09:36:56.116475 140154367981440 run_classifier.py:685]   name = bert/encoder/layer_9/intermediate/dense/kernel:0, shape = (768, 3072), *INIT_FROM_CKPT*\n",
            "I0821 09:36:56.117784 140154367981440 run_classifier.py:685]   name = bert/encoder/layer_9/intermediate/dense/bias:0, shape = (3072,), *INIT_FROM_CKPT*\n",
            "I0821 09:36:56.119524 140154367981440 run_classifier.py:685]   name = bert/encoder/layer_9/output/dense/kernel:0, shape = (3072, 768), *INIT_FROM_CKPT*\n",
            "I0821 09:36:56.120603 140154367981440 run_classifier.py:685]   name = bert/encoder/layer_9/output/dense/bias:0, shape = (768,), *INIT_FROM_CKPT*\n",
            "I0821 09:36:56.121996 140154367981440 run_classifier.py:685]   name = bert/encoder/layer_9/output/LayerNorm/beta:0, shape = (768,), *INIT_FROM_CKPT*\n",
            "I0821 09:36:56.123334 140154367981440 run_classifier.py:685]   name = bert/encoder/layer_9/output/LayerNorm/gamma:0, shape = (768,), *INIT_FROM_CKPT*\n",
            "I0821 09:36:56.125338 140154367981440 run_classifier.py:685]   name = bert/encoder/layer_10/attention/self/query/kernel:0, shape = (768, 768), *INIT_FROM_CKPT*\n",
            "I0821 09:36:56.126147 140154367981440 run_classifier.py:685]   name = bert/encoder/layer_10/attention/self/query/bias:0, shape = (768,), *INIT_FROM_CKPT*\n",
            "I0821 09:36:56.127499 140154367981440 run_classifier.py:685]   name = bert/encoder/layer_10/attention/self/key/kernel:0, shape = (768, 768), *INIT_FROM_CKPT*\n",
            "I0821 09:36:56.129288 140154367981440 run_classifier.py:685]   name = bert/encoder/layer_10/attention/self/key/bias:0, shape = (768,), *INIT_FROM_CKPT*\n",
            "I0821 09:36:56.130524 140154367981440 run_classifier.py:685]   name = bert/encoder/layer_10/attention/self/value/kernel:0, shape = (768, 768), *INIT_FROM_CKPT*\n",
            "I0821 09:36:56.131623 140154367981440 run_classifier.py:685]   name = bert/encoder/layer_10/attention/self/value/bias:0, shape = (768,), *INIT_FROM_CKPT*\n",
            "I0821 09:36:56.132852 140154367981440 run_classifier.py:685]   name = bert/encoder/layer_10/attention/output/dense/kernel:0, shape = (768, 768), *INIT_FROM_CKPT*\n",
            "I0821 09:36:56.134881 140154367981440 run_classifier.py:685]   name = bert/encoder/layer_10/attention/output/dense/bias:0, shape = (768,), *INIT_FROM_CKPT*\n",
            "I0821 09:36:56.135973 140154367981440 run_classifier.py:685]   name = bert/encoder/layer_10/attention/output/LayerNorm/beta:0, shape = (768,), *INIT_FROM_CKPT*\n",
            "I0821 09:36:56.137314 140154367981440 run_classifier.py:685]   name = bert/encoder/layer_10/attention/output/LayerNorm/gamma:0, shape = (768,), *INIT_FROM_CKPT*\n",
            "I0821 09:36:56.138454 140154367981440 run_classifier.py:685]   name = bert/encoder/layer_10/intermediate/dense/kernel:0, shape = (768, 3072), *INIT_FROM_CKPT*\n",
            "I0821 09:36:56.139703 140154367981440 run_classifier.py:685]   name = bert/encoder/layer_10/intermediate/dense/bias:0, shape = (3072,), *INIT_FROM_CKPT*\n",
            "I0821 09:36:56.141563 140154367981440 run_classifier.py:685]   name = bert/encoder/layer_10/output/dense/kernel:0, shape = (3072, 768), *INIT_FROM_CKPT*\n",
            "I0821 09:36:56.142632 140154367981440 run_classifier.py:685]   name = bert/encoder/layer_10/output/dense/bias:0, shape = (768,), *INIT_FROM_CKPT*\n",
            "I0821 09:36:56.144060 140154367981440 run_classifier.py:685]   name = bert/encoder/layer_10/output/LayerNorm/beta:0, shape = (768,), *INIT_FROM_CKPT*\n",
            "I0821 09:36:56.145398 140154367981440 run_classifier.py:685]   name = bert/encoder/layer_10/output/LayerNorm/gamma:0, shape = (768,), *INIT_FROM_CKPT*\n",
            "I0821 09:36:56.146807 140154367981440 run_classifier.py:685]   name = bert/encoder/layer_11/attention/self/query/kernel:0, shape = (768, 768), *INIT_FROM_CKPT*\n",
            "I0821 09:36:56.148423 140154367981440 run_classifier.py:685]   name = bert/encoder/layer_11/attention/self/query/bias:0, shape = (768,), *INIT_FROM_CKPT*\n",
            "I0821 09:36:56.149710 140154367981440 run_classifier.py:685]   name = bert/encoder/layer_11/attention/self/key/kernel:0, shape = (768, 768), *INIT_FROM_CKPT*\n",
            "I0821 09:36:56.151460 140154367981440 run_classifier.py:685]   name = bert/encoder/layer_11/attention/self/key/bias:0, shape = (768,), *INIT_FROM_CKPT*\n",
            "I0821 09:36:56.152683 140154367981440 run_classifier.py:685]   name = bert/encoder/layer_11/attention/self/value/kernel:0, shape = (768, 768), *INIT_FROM_CKPT*\n",
            "I0821 09:36:56.154055 140154367981440 run_classifier.py:685]   name = bert/encoder/layer_11/attention/self/value/bias:0, shape = (768,), *INIT_FROM_CKPT*\n",
            "I0821 09:36:56.155328 140154367981440 run_classifier.py:685]   name = bert/encoder/layer_11/attention/output/dense/kernel:0, shape = (768, 768), *INIT_FROM_CKPT*\n",
            "I0821 09:36:56.156710 140154367981440 run_classifier.py:685]   name = bert/encoder/layer_11/attention/output/dense/bias:0, shape = (768,), *INIT_FROM_CKPT*\n",
            "I0821 09:36:56.157775 140154367981440 run_classifier.py:685]   name = bert/encoder/layer_11/attention/output/LayerNorm/beta:0, shape = (768,), *INIT_FROM_CKPT*\n",
            "I0821 09:36:56.159592 140154367981440 run_classifier.py:685]   name = bert/encoder/layer_11/attention/output/LayerNorm/gamma:0, shape = (768,), *INIT_FROM_CKPT*\n",
            "I0821 09:36:56.160675 140154367981440 run_classifier.py:685]   name = bert/encoder/layer_11/intermediate/dense/kernel:0, shape = (768, 3072), *INIT_FROM_CKPT*\n",
            "I0821 09:36:56.161948 140154367981440 run_classifier.py:685]   name = bert/encoder/layer_11/intermediate/dense/bias:0, shape = (3072,), *INIT_FROM_CKPT*\n",
            "I0821 09:36:56.163215 140154367981440 run_classifier.py:685]   name = bert/encoder/layer_11/output/dense/kernel:0, shape = (3072, 768), *INIT_FROM_CKPT*\n",
            "I0821 09:36:56.164344 140154367981440 run_classifier.py:685]   name = bert/encoder/layer_11/output/dense/bias:0, shape = (768,), *INIT_FROM_CKPT*\n",
            "I0821 09:36:56.165700 140154367981440 run_classifier.py:685]   name = bert/encoder/layer_11/output/LayerNorm/beta:0, shape = (768,), *INIT_FROM_CKPT*\n",
            "I0821 09:36:56.167055 140154367981440 run_classifier.py:685]   name = bert/encoder/layer_11/output/LayerNorm/gamma:0, shape = (768,), *INIT_FROM_CKPT*\n",
            "I0821 09:36:56.168777 140154367981440 run_classifier.py:685]   name = bert/pooler/dense/kernel:0, shape = (768, 768), *INIT_FROM_CKPT*\n",
            "I0821 09:36:56.170483 140154367981440 run_classifier.py:685]   name = bert/pooler/dense/bias:0, shape = (768,), *INIT_FROM_CKPT*\n",
            "I0821 09:36:56.171576 140154367981440 run_classifier.py:685]   name = output_weights:0, shape = (5, 768)\n",
            "I0821 09:36:56.172886 140154367981440 run_classifier.py:685]   name = output_bias:0, shape = (5,)\n",
            "W0821 09:36:56.174346 140154367981440 deprecation_wrapper.py:119] From bert_thai/optimization.py:27: The name tf.train.get_or_create_global_step is deprecated. Please use tf.compat.v1.train.get_or_create_global_step instead.\n",
            "\n",
            "W0821 09:36:56.178231 140154367981440 deprecation_wrapper.py:119] From bert_thai/optimization.py:32: The name tf.train.polynomial_decay is deprecated. Please use tf.compat.v1.train.polynomial_decay instead.\n",
            "\n",
            "W0821 09:36:56.197907 140154367981440 deprecation.py:323] From /usr/local/lib/python3.6/dist-packages/tensorflow/python/keras/optimizer_v2/learning_rate_schedule.py:409: div (from tensorflow.python.ops.math_ops) is deprecated and will be removed in a future version.\n",
            "Instructions for updating:\n",
            "Deprecated in favor of operator or tf.math.divide.\n",
            "W0821 09:37:01.211717 140154367981440 deprecation.py:323] From /usr/local/lib/python3.6/dist-packages/tensorflow/python/ops/clip_ops.py:286: add_dispatch_support.<locals>.wrapper (from tensorflow.python.ops.array_ops) is deprecated and will be removed in a future version.\n",
            "Instructions for updating:\n",
            "Use tf.where in 2.0, which has the same broadcast rule as np.where\n",
            "W0821 09:37:09.909795 140154367981440 deprecation_wrapper.py:119] From bert_thai/run_classifier.py:672: The name tf.train.init_from_checkpoint is deprecated. Please use tf.compat.v1.train.init_from_checkpoint instead.\n",
            "\n",
            "W0821 09:37:12.281076 140154367981440 deprecation_wrapper.py:119] From bert_thai/run_classifier.py:673: The name tf.train.Scaffold is deprecated. Please use tf.compat.v1.train.Scaffold instead.\n",
            "\n",
            "I0821 09:37:13.304626 140154367981440 basic_session_run_hooks.py:541] Create CheckpointSaverHook.\n",
            "I0821 09:37:14.059388 140154367981440 estimator.py:1147] Done calling model_fn.\n",
            "I0821 09:37:19.286787 140154367981440 tpu_estimator.py:499] TPU job name worker\n",
            "I0821 09:37:21.023089 140154367981440 monitored_session.py:240] Graph was finalized.\n",
            "I0821 09:37:31.797623 140154367981440 session_manager.py:500] Running local_init_op.\n",
            "I0821 09:37:32.682514 140154367981440 session_manager.py:502] Done running local_init_op.\n",
            "I0821 09:37:46.033548 140154367981440 basic_session_run_hooks.py:606] Saving checkpoints for 0 into gs://no-idea-what-to-name-bucket/wongnai_bert_tpu/model.ckpt.\n",
            "W0821 09:38:29.858354 140154367981440 deprecation.py:323] From /usr/local/lib/python3.6/dist-packages/tensorflow_estimator/python/estimator/tpu/tpu_estimator.py:741: Variable.load (from tensorflow.python.ops.variables) is deprecated and will be removed in a future version.\n",
            "Instructions for updating:\n",
            "Prefer Variable.assign which has equivalent behavior in 2.X.\n",
            "I0821 09:38:31.583058 140154367981440 util.py:98] Initialized dataset iterators in 0 seconds\n",
            "I0821 09:38:31.585429 140154367981440 session_support.py:332] Installing graceful shutdown hook.\n",
            "I0821 09:38:31.595401 140154367981440 session_support.py:82] Creating heartbeat manager for ['/job:worker/replica:0/task:0/device:CPU:0']\n",
            "I0821 09:38:31.600272 140154367981440 session_support.py:105] Configuring worker heartbeat: shutdown_mode: WAIT_FOR_COORDINATOR\n",
            "\n",
            "I0821 09:38:31.606467 140154367981440 tpu_estimator.py:557] Init TPU system\n",
            "I0821 09:38:40.260627 140154367981440 tpu_estimator.py:566] Initialized TPU in 8 seconds\n",
            "I0821 09:38:40.262736 140152884741888 tpu_estimator.py:514] Starting infeed thread controller.\n",
            "I0821 09:38:40.272088 140152858789632 tpu_estimator.py:533] Starting outfeed thread controller.\n",
            "I0821 09:38:41.129489 140154367981440 tpu_estimator.py:590] Enqueue next (937) batch(es) of data to infeed.\n",
            "I0821 09:38:41.131704 140154367981440 tpu_estimator.py:594] Dequeue next (937) batch(es) of data from outfeed.\n",
            "I0821 09:39:18.947792 140152858789632 tpu_estimator.py:275] Outfeed finished for iteration (0, 0)\n",
            "I0821 09:40:19.004051 140152858789632 tpu_estimator.py:275] Outfeed finished for iteration (0, 547)\n",
            "I0821 09:41:05.024376 140154367981440 basic_session_run_hooks.py:262] loss = 1.0679297, step = 937\n",
            "I0821 09:41:05.029485 140154367981440 basic_session_run_hooks.py:606] Saving checkpoints for 937 into gs://no-idea-what-to-name-bucket/wongnai_bert_tpu/model.ckpt.\n",
            "I0821 09:41:52.702084 140154367981440 tpu_estimator.py:598] Stop infeed thread controller\n",
            "I0821 09:41:52.704084 140154367981440 tpu_estimator.py:430] Shutting down InfeedController thread.\n",
            "I0821 09:41:52.707217 140152884741888 tpu_estimator.py:425] InfeedController received shutdown signal, stopping.\n",
            "I0821 09:41:52.711250 140152884741888 tpu_estimator.py:530] Infeed thread finished, shutting down.\n",
            "I0821 09:41:52.713594 140154367981440 error_handling.py:96] infeed marked as finished\n",
            "I0821 09:41:52.715254 140154367981440 tpu_estimator.py:602] Stop output thread controller\n",
            "I0821 09:41:52.718964 140154367981440 tpu_estimator.py:430] Shutting down OutfeedController thread.\n",
            "I0821 09:41:52.720315 140152858789632 tpu_estimator.py:425] OutfeedController received shutdown signal, stopping.\n",
            "I0821 09:41:52.721738 140152858789632 tpu_estimator.py:541] Outfeed thread finished, shutting down.\n",
            "I0821 09:41:52.723545 140154367981440 error_handling.py:96] outfeed marked as finished\n",
            "I0821 09:41:52.724504 140154367981440 tpu_estimator.py:606] Shutdown TPU system.\n",
            "I0821 09:41:54.445451 140154367981440 estimator.py:368] Loss for final step: 1.0679297.\n",
            "I0821 09:41:54.448241 140154367981440 error_handling.py:96] training_loop marked as finished\n"
          ],
          "name": "stderr"
        },
        {
          "output_type": "execute_result",
          "data": {
            "text/plain": [
              "<tensorflow_estimator.python.estimator.tpu.tpu_estimator.TPUEstimator at 0x7f77f1cd0a58>"
            ]
          },
          "metadata": {
            "tags": []
          },
          "execution_count": 15
        }
      ]
    }
  ]
}